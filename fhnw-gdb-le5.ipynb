{
 "cells": [
  {
   "cell_type": "markdown",
   "id": "0df38b72",
   "metadata": {},
   "source": [
    "# Grundkompetenz Datenbanken"
   ]
  },
  {
   "cell_type": "markdown",
   "id": "3fcf3d1e",
   "metadata": {},
   "source": [
    "## Setup"
   ]
  },
  {
   "cell_type": "markdown",
   "id": "772f2fd2",
   "metadata": {},
   "source": [
    "Hier werden die benötigten Daten von der Konfigurationsdatei abgelesen, um eine Datenbankverbindung herzustellen."
   ]
  },
  {
   "cell_type": "code",
   "execution_count": 1,
   "id": "fac2b4e2",
   "metadata": {
    "scrolled": true
   },
   "outputs": [],
   "source": [
    "import configparser\n",
    "\n",
    "config = configparser.ConfigParser()\n",
    "config.read('config.ini')\n",
    "\n",
    "db_username = config['Database']['USER']\n",
    "db_password = config['Database']['PASS']\n",
    "db_hostname = config['Database']['HOST']"
   ]
  },
  {
   "cell_type": "markdown",
   "id": "40e40fd3",
   "metadata": {},
   "source": [
    "Hier wird die Datenbankverbindung hergestellt."
   ]
  },
  {
   "cell_type": "code",
   "execution_count": 2,
   "id": "488c8ac0",
   "metadata": {},
   "outputs": [],
   "source": [
    "from pymongo import MongoClient\n",
    "\n",
    "client = MongoClient(\"mongodb+srv://{USERNAME}:{PASSWORD}@{HOSTNAME}\".format(USERNAME = db_username, \n",
    "                                                                             PASSWORD = db_password, \n",
    "                                                                             HOSTNAME = db_hostname))\n",
    "db = client.sample_mflix"
   ]
  },
  {
   "cell_type": "markdown",
   "id": "c23733cd",
   "metadata": {},
   "source": [
    "Testabfrage:"
   ]
  },
  {
   "cell_type": "code",
   "execution_count": 3,
   "id": "316ba49b",
   "metadata": {},
   "outputs": [
    {
     "name": "stdout",
     "output_type": "stream",
     "text": [
      "['sessions', 'movies', 'users', 'comments', 'theaters']\n"
     ]
    }
   ],
   "source": [
    "print(db.list_collection_names())"
   ]
  }
 ],
 "metadata": {
  "kernelspec": {
   "display_name": "Python 3 (ipykernel)",
   "language": "python",
   "name": "python3"
  },
  "language_info": {
   "codemirror_mode": {
    "name": "ipython",
    "version": 3
   },
   "file_extension": ".py",
   "mimetype": "text/x-python",
   "name": "python",
   "nbconvert_exporter": "python",
   "pygments_lexer": "ipython3",
   "version": "3.9.7"
  }
 },
 "nbformat": 4,
 "nbformat_minor": 5
}
