{
 "cells": [
  {
   "cell_type": "markdown",
   "id": "0df38b72",
   "metadata": {},
   "source": [
    "# Grundkompetenz Datenbanken"
   ]
  },
  {
   "cell_type": "markdown",
   "id": "3fcf3d1e",
   "metadata": {},
   "source": [
    "## Setup"
   ]
  },
  {
   "cell_type": "markdown",
   "id": "772f2fd2",
   "metadata": {},
   "source": [
    "Hier werden die benötigten Daten von der Konfigurationsdatei abgelesen, um eine Datenbankverbindung herzustellen."
   ]
  },
  {
   "cell_type": "code",
   "execution_count": 1,
   "id": "5b7570b0",
   "metadata": {},
   "outputs": [],
   "source": [
    "from pymongo import MongoClient\n",
    "import configparser\n",
    "import pprint\n",
    "jsonp = pprint.pprint"
   ]
  },
  {
   "cell_type": "code",
   "execution_count": 2,
   "id": "fac2b4e2",
   "metadata": {
    "scrolled": true
   },
   "outputs": [],
   "source": [
    "config = configparser.ConfigParser()\n",
    "config.read('config.ini')\n",
    "\n",
    "db_username = config['Database']['USER']\n",
    "db_password = config['Database']['PASS']\n",
    "db_hostname = config['Database']['HOST']"
   ]
  },
  {
   "cell_type": "markdown",
   "id": "40e40fd3",
   "metadata": {},
   "source": [
    "Hier wird die Datenbankverbindung hergestellt."
   ]
  },
  {
   "cell_type": "code",
   "execution_count": 3,
   "id": "488c8ac0",
   "metadata": {},
   "outputs": [],
   "source": [
    "client = MongoClient(\"mongodb+srv://{USERNAME}:{PASSWORD}@{HOSTNAME}\".format(USERNAME = db_username, \n",
    "                                                                             PASSWORD = db_password, \n",
    "                                                                             HOSTNAME = db_hostname))\n",
    "db = client.sample_mflix"
   ]
  },
  {
   "cell_type": "markdown",
   "id": "c23733cd",
   "metadata": {},
   "source": [
    "Testabfrage:"
   ]
  },
  {
   "cell_type": "code",
   "execution_count": 4,
   "id": "316ba49b",
   "metadata": {},
   "outputs": [
    {
     "name": "stdout",
     "output_type": "stream",
     "text": [
      "['sessions', 'movies', 'users', 'comments', 'theaters']\n"
     ]
    }
   ],
   "source": [
    "print(db.list_collection_names())"
   ]
  },
  {
   "cell_type": "markdown",
   "id": "430d732d",
   "metadata": {},
   "source": [
    "5 Users ausgeben"
   ]
  },
  {
   "cell_type": "code",
   "execution_count": null,
   "id": "a656816a",
   "metadata": {},
   "outputs": [],
   "source": [
    "users = db.users.find({})[:5]\n",
    "for user in users:\n",
    "    jsonp(user)"
   ]
  },
  {
   "cell_type": "markdown",
   "id": "4e7d6c70",
   "metadata": {},
   "source": [
    "Kommentare ausgeben"
   ]
  },
  {
   "cell_type": "code",
   "execution_count": null,
   "id": "97eeedef",
   "metadata": {
    "scrolled": true
   },
   "outputs": [],
   "source": [
    "comments = db.comments.find({})[:5]\n",
    "for comment in comments:\n",
    "    jsonp(comment)"
   ]
  },
  {
   "cell_type": "markdown",
   "id": "af5b50b0",
   "metadata": {},
   "source": [
    "find() Nach einer bestimmten Bedingung ausgeben"
   ]
  },
  {
   "cell_type": "code",
   "execution_count": null,
   "id": "1396a8ba",
   "metadata": {},
   "outputs": [],
   "source": [
    "users2 = db.users.find({'name':\"Cersei Lannister\"})\n",
    "for user in users2:\n",
    "    jsonp(user)"
   ]
  },
  {
   "cell_type": "code",
   "execution_count": null,
   "id": "d0b1acbb",
   "metadata": {},
   "outputs": [],
   "source": [
    "query = {'title'}\n",
    "movie = db.movies.find(query)\n",
    "for film in movie:\n",
    "    jsonp(film)"
   ]
  },
  {
   "cell_type": "markdown",
   "id": "d7ebd433",
   "metadata": {},
   "source": [
    "find() mit \"$gt\" und \"$lt\" abfrage \n",
    "\"$gt\" => greater than\n",
    "\"$lt\" => lower than"
   ]
  },
  {
   "cell_type": "code",
   "execution_count": null,
   "id": "06aa8654",
   "metadata": {},
   "outputs": [],
   "source": [
    "yearquery = {'year':{\"$lt\":1893}}\n",
    "movie2 = db.movies.find(yearquery)[:3]\n",
    "for film in movie2:\n",
    "    jsonp(film)"
   ]
  },
  {
   "cell_type": "markdown",
   "id": "e0f1ced0",
   "metadata": {},
   "source": [
    "find() mit \"$regex\" Abfrage nach einer Zeichenkette"
   ]
  },
  {
   "cell_type": "markdown",
   "id": "b133598f",
   "metadata": {},
   "source": [
    "titlequery = {'title':{\"$regex\":\"^s\"}}\n",
    "movie3 = db.movies.find(titlequery)[:2]\n",
    "for film in movie3:\n",
    "    jsonp(film)"
   ]
  },
  {
   "cell_type": "code",
   "execution_count": null,
   "id": "3ec950cf",
   "metadata": {},
   "outputs": [],
   "source": [
    "genrequery = {'genres':{\"$regex\":\"^Drama\"}}\n",
    "movie4 = db.movies.find(genrequery)[:2]\n",
    "for film in movie4:\n",
    "    jsonp(film)"
   ]
  },
  {
   "cell_type": "markdown",
   "id": "15b94e3a",
   "metadata": {},
   "source": [
    "find() Meherere User nach mehreren Bedingungen ausgeben"
   ]
  },
  {
   "cell_type": "code",
   "execution_count": null,
   "id": "1f5bf33e",
   "metadata": {},
   "outputs": [],
   "source": [
    "users3 = db.users.find({\"$or\":[{'name':\"Cersei Lannister\"},{'name':\"Catelyn Stark\"}]})\n",
    "for user in users3:\n",
    "    jsonp(user)"
   ]
  },
  {
   "cell_type": "markdown",
   "id": "8844492f",
   "metadata": {},
   "source": [
    "find() mit sort() verknuepfen\n",
    "-1 = absteigend\n",
    "1  = aufsteigend"
   ]
  },
  {
   "cell_type": "code",
   "execution_count": null,
   "id": "17936b2b",
   "metadata": {},
   "outputs": [],
   "source": [
    "movie5 = db.movies.find().sort('runtime', -1)[:5] \n",
    "for film in movie5:\n",
    "    jsonp(film)"
   ]
  },
  {
   "cell_type": "markdown",
   "id": "934359d8",
   "metadata": {},
   "source": [
    "Mehere Abfragen gleichzeitig"
   ]
  },
  {
   "cell_type": "code",
   "execution_count": null,
   "id": "a140150a",
   "metadata": {
    "scrolled": true
   },
   "outputs": [],
   "source": [
    "movie6 = db.movies.find({ 'year': {'$gt': 2007}, '$and': [{'genres': 'Drama'},{'type': 'series'}]})[:2]\n",
    "for film in movie6:\n",
    "    jsonp(film)"
   ]
  },
  {
   "cell_type": "markdown",
   "id": "7db24665",
   "metadata": {},
   "source": [
    "Alle genres von Movie abfragen mit distinct()"
   ]
  },
  {
   "cell_type": "code",
   "execution_count": null,
   "id": "0698e991",
   "metadata": {},
   "outputs": [],
   "source": [
    "allgenres = db.movies.distinct('genres')\n",
    "print(allgenres)"
   ]
  },
  {
   "cell_type": "code",
   "execution_count": null,
   "id": "503cf5de",
   "metadata": {},
   "outputs": [],
   "source": [
    "query = {'awards.nominations': {'$gt': 1}}\n",
    "nomination = db.movies.find(query)\n",
    "for num in nomination:\n",
    "    print(num['awards']['nominations'])"
   ]
  },
  {
   "cell_type": "code",
   "execution_count": null,
   "id": "817b5ada",
   "metadata": {},
   "outputs": [],
   "source": [
    "titles = db.movies.find({ 'year': {'$gt': 2013}, '$and': [{'genres': 'Sci-Fi'},{'type': 'movie'},{'awards.wins': {'$gt': 44}}]})\n",
    "for film in titles:\n",
    "    jsonp(film['title'])"
   ]
  },
  {
   "cell_type": "markdown",
   "id": "8c1b5775",
   "metadata": {},
   "source": [
    "Join of movies and comments"
   ]
  },
  {
   "cell_type": "code",
   "execution_count": null,
   "id": "7fb2da89",
   "metadata": {},
   "outputs": [],
   "source": []
  },
  {
   "cell_type": "code",
   "execution_count": null,
   "id": "f8afa4d2",
   "metadata": {},
   "outputs": [],
   "source": [
    "allmovies = db.movies.find({})\n",
    "allcomments = db.comments.find({})\n",
    "\n",
    "print(join(allmovies, allcomments, \"_id\", \"movie_id\"))"
   ]
  },
  {
   "cell_type": "markdown",
   "id": "89eafd45",
   "metadata": {},
   "source": [
    "Sammlung Komplexer Fragestellungen\n",
    "Welche Filme erhalten die meisten Kommentare? (Schauspieler, Genres etc..)\n",
    "Welche Filme haben die meisten Kommentaren?\n",
    "Welche Filme mit 10 awards Gewinnen haben die meisten Kommentar"
   ]
  },
  {
   "cell_type": "code",
   "execution_count": null,
   "id": "bb1f38e9",
   "metadata": {},
   "outputs": [],
   "source": [
    "test = db.movies.aggregate([\n",
    "    {\"$group\" : {\"_id\":{\"_id\":\"$movie_id\"}, \"count\":{\"$sum\":1}}}\n",
    "])\n",
    "for test2 in test:\n",
    "    jsonp(test2)"
   ]
  },
  {
   "cell_type": "markdown",
   "id": "31f4dbcf",
   "metadata": {},
   "source": [
    "# Fragen zu den Abfragen"
   ]
  },
  {
   "cell_type": "markdown",
   "id": "e3901b94",
   "metadata": {},
   "source": [
    "### Welche Datenbank hast Du gewählt? "
   ]
  },
  {
   "cell_type": "markdown",
   "id": "0fdd4013",
   "metadata": {},
   "source": [
    "Wir haben uns für MongoDB entschieden."
   ]
  },
  {
   "cell_type": "markdown",
   "id": "1ec33b12",
   "metadata": {},
   "source": [
    "### Warum hast Du diese gewählt?"
   ]
  },
  {
   "cell_type": "markdown",
   "id": "3afdc942",
   "metadata": {},
   "source": [
    "Wir haben uns für MongoDB entschieden weil MongoDB viele gut strukturierte Testdaten bereitstellt. Wir haben bis jetzt noch nie mit Dokumentdatenbanken gearbeitet und wollten somit unsere Kompetenzen erweitern. "
   ]
  },
  {
   "cell_type": "markdown",
   "id": "ef03cfd7",
   "metadata": {},
   "source": [
    "### Wie sehen die Daten aus?"
   ]
  },
  {
   "cell_type": "markdown",
   "id": "2eb617a1",
   "metadata": {},
   "source": [
    "Die Daten werden von MongoDB als json Strings zurückgegeben.\n",
    "Die Tabellen heissen unter MongoDB \"Collections\" und unterscheiden sich von herkömmlichen Tabellen in relationalen Datenbanken, indem sie kein Datenstrakturschema vorgeben."
   ]
  },
  {
   "cell_type": "markdown",
   "id": "68c2788c",
   "metadata": {},
   "source": [
    "### Inwiefern ist das besser als eine relationale Datenbank?"
   ]
  },
  {
   "cell_type": "markdown",
   "id": "a6f04723",
   "metadata": {},
   "source": [
    "Da die Daten kein Schema haben, können Änderungen bei der Datenerfassung leichter umgesetzt werden. Für grosse Datenservices lohnt sich MongoDB, da die Datenbank horizontal skalierbar ist (mehrere Nodes) und die Latenz und Auslastung weltweit minimiert werden kann. Bei objektorientiertem Code kann ein Objekt zusätzlich schnell geparst und weiterverarbeitet werden."
   ]
  },
  {
   "cell_type": "markdown",
   "id": "98285a86",
   "metadata": {},
   "source": [
    "### Wie sehen komplexe Fragestellungen (Abfrage) zu den Daten aus, und warum sind sie komplex? Vergleiche es mit eine SQL, würde es komplizierter sein, welche Vorteile gibt es gegenüber SQL?"
   ]
  },
  {
   "cell_type": "markdown",
   "id": "3f58c1a4",
   "metadata": {},
   "source": [
    "Bei komplexen Abfragen werden die Daten nicht nur abgelesen, sondern stark verarbeitet (Datenaufbereitung), bereinigt, gefiltert und mit anderen Daten kombiniert."
   ]
  },
  {
   "cell_type": "markdown",
   "id": "7a77a7e2",
   "metadata": {},
   "source": [
    "# Komplexe Abfragen"
   ]
  },
  {
   "cell_type": "markdown",
   "id": "c0ae3284",
   "metadata": {},
   "source": [
    "Anzahl Kommentare aller Filme zurückgeben, die mindestens 150 Awards gewonnen haben."
   ]
  },
  {
   "cell_type": "code",
   "execution_count": 5,
   "id": "f2155bbb",
   "metadata": {},
   "outputs": [
    {
     "name": "stdout",
     "output_type": "stream",
     "text": [
      "{'awards': {'wins': 267}, 'countComments': 1, 'title': '12 Years a Slave'}\n",
      "{'awards': {'wins': 231}, 'countComments': 1, 'title': 'Gravity'}\n",
      "{'awards': {'wins': 185}, 'countComments': 1, 'title': 'Boyhood'}\n",
      "{'awards': {'wins': 175},\n",
      " 'countComments': 133,\n",
      " 'title': 'The Lord of the Rings: The Return of the King'}\n",
      "{'awards': {'wins': 172}, 'countComments': 1, 'title': 'No Country for Old Men'}\n",
      "{'awards': {'wins': 171}, 'countComments': 1, 'title': 'The Social Network'}\n",
      "{'awards': {'wins': 162}, 'countComments': 1, 'title': 'Inception'}\n",
      "{'awards': {'wins': 161}, 'countComments': 127, 'title': 'Slumdog Millionaire'}\n",
      "{'awards': {'wins': 161}, 'countComments': 1, 'title': 'The Artist'}\n"
     ]
    }
   ],
   "source": [
    "result = db.movies.aggregate([\n",
    "    {\n",
    "        '$addFields': {\n",
    "            'movie_id': {\n",
    "                '$toString': '$_id'\n",
    "            }\n",
    "        }\n",
    "    }, {\n",
    "        '$lookup': {\n",
    "            'from': 'comments', \n",
    "            'localField': '_id', \n",
    "            'foreignField': 'movie_id', \n",
    "            'as': 'comments'\n",
    "        }\n",
    "    }, {\n",
    "        '$addFields': {\n",
    "            'countComments': {\n",
    "                '$size': '$comments'\n",
    "            }\n",
    "        }\n",
    "    }, {\n",
    "        '$match': {\n",
    "            'countComments': {\n",
    "                '$gt': 0\n",
    "            },\n",
    "            'awards.wins': {\n",
    "                '$gt': 149\n",
    "            }\n",
    "        }\n",
    "    }, {\n",
    "        '$project': {\n",
    "            'countComments': 1,\n",
    "            'awards.wins': 1,\n",
    "            'title': 1, \n",
    "            '_id': 0\n",
    "        }\n",
    "    }, {\n",
    "        '$sort': {\n",
    "            'awards.wins': -1\n",
    "        }\n",
    "    }\n",
    "])\n",
    "\n",
    "for var in result:\n",
    "    jsonp(var)"
   ]
  },
  {
   "cell_type": "markdown",
   "id": "822c9325",
   "metadata": {},
   "source": [
    "Welche 10 User haben die meisten Kommentare geschrieben?"
   ]
  },
  {
   "cell_type": "code",
   "execution_count": 6,
   "id": "e5b31c92",
   "metadata": {},
   "outputs": [
    {
     "name": "stdout",
     "output_type": "stream",
     "text": [
      "{'countComments': 277,\n",
      " 'userinfo': [{'email': 'roger_ashton-griffiths@gameofthron.es',\n",
      "               'name': 'Mace Tyrell'}]}\n",
      "{'countComments': 260,\n",
      " 'userinfo': [{'email': 'jonathan_pryce@gameofthron.es',\n",
      "               'name': 'The High Sparrow'}]}\n",
      "{'countComments': 260,\n",
      " 'userinfo': [{'email': 'ron_donachie@gameofthron.es',\n",
      "               'name': 'Rodrik Cassel'}]}\n",
      "{'countComments': 258,\n",
      " 'userinfo': [{'email': 'nathalie_emmanuel@gameofthron.es',\n",
      "               'name': 'Missandei'}]}\n",
      "{'countComments': 257,\n",
      " 'userinfo': [{'email': 'robert_jordan@fakegmail.com',\n",
      "               'name': 'Robert Jordan'}]}\n",
      "{'countComments': 251,\n",
      " 'userinfo': [{'email': 'paul_kaye@gameofthron.es', 'name': 'Thoros of Myr'}]}\n",
      "{'countComments': 251,\n",
      " 'userinfo': [{'email': 'sophie_turner@gameofthron.es', 'name': 'Sansa Stark'}]}\n",
      "{'countComments': 248,\n",
      " 'userinfo': [{'email': 'donna_smith@fakegmail.com', 'name': 'Donna Smith'}]}\n",
      "{'countComments': 248,\n",
      " 'userinfo': [{'email': 'nicholas_johnson@fakegmail.com',\n",
      "               'name': 'Nicholas Johnson'}]}\n",
      "{'countComments': 247,\n",
      " 'userinfo': [{'email': 'richard_dormer@gameofthron.es',\n",
      "               'name': 'Beric Dondarrion'}]}\n"
     ]
    }
   ],
   "source": [
    "result = db.comments.aggregate([\n",
    "    {\n",
    "        '$group': {\n",
    "            '_id': '$email', \n",
    "            'countComments': {\n",
    "                '$sum': 1\n",
    "            }\n",
    "        }\n",
    "    }, {\n",
    "        '$sort': {\n",
    "            'countComments': -1\n",
    "        }\n",
    "    }, {\n",
    "        '$limit': 10\n",
    "    }, {\n",
    "        '$lookup': {\n",
    "            'from': 'users', \n",
    "            'localField': '_id', \n",
    "            'foreignField': 'email', \n",
    "            'as': 'userinfo'\n",
    "        }\n",
    "    }, {\n",
    "        '$project': {\n",
    "            'userinfo.name': 1, \n",
    "            'userinfo.email': 1, \n",
    "            'countComments': 1, \n",
    "            '_id': 0\n",
    "        }\n",
    "    }\n",
    "])\n",
    "\n",
    "for var in result:\n",
    "    jsonp(var)"
   ]
  },
  {
   "cell_type": "markdown",
   "id": "3289c861",
   "metadata": {},
   "source": [
    "Über welchen 10 Filme wurde am meisten kommentiert?"
   ]
  },
  {
   "cell_type": "code",
   "execution_count": 7,
   "id": "a09c24c4",
   "metadata": {},
   "outputs": [
    {
     "name": "stdout",
     "output_type": "stream",
     "text": [
      "{'countComments': 161, 'movie': [{'title': 'The Taking of Pelham 1 2 3'}]}\n",
      "{'countComments': 158, 'movie': [{'title': 'About a Boy'}]}\n",
      "{'countComments': 158, 'movie': [{'title': 'Terminator Salvation'}]}\n",
      "{'countComments': 158, 'movie': [{'title': \"Ocean's Eleven\"}]}\n",
      "{'countComments': 158, 'movie': [{'title': '50 First Dates'}]}\n",
      "{'countComments': 157, 'movie': [{'title': 'Sherlock Holmes'}]}\n",
      "{'countComments': 157, 'movie': [{'title': 'The Mummy'}]}\n",
      "{'countComments': 155, 'movie': [{'title': 'Hellboy II: The Golden Army'}]}\n",
      "{'countComments': 154,\n",
      " 'movie': [{'title': 'Anchorman: The Legend of Ron Burgundy'}]}\n",
      "{'countComments': 154, 'movie': [{'title': 'The Mummy Returns'}]}\n"
     ]
    }
   ],
   "source": [
    "result = db.comments.aggregate([\n",
    "    {\n",
    "        '$group': {\n",
    "            '_id': '$movie_id', \n",
    "            'countComments': {\n",
    "                '$sum': 1\n",
    "            }\n",
    "        }\n",
    "    }, {\n",
    "        '$lookup': {\n",
    "            'from': 'movies', \n",
    "            'localField': '_id', \n",
    "            'foreignField': '_id', \n",
    "            'as': 'movie'\n",
    "        }\n",
    "    }, {\n",
    "        '$sort': {\n",
    "            'countComments': -1\n",
    "        }\n",
    "    }, {\n",
    "        '$limit': 10\n",
    "    }, {\n",
    "        '$project': {\n",
    "            'countComments': 1, \n",
    "            'movie.title': 1,\n",
    "            '_id': 0\n",
    "        }\n",
    "    }\n",
    "])\n",
    "\n",
    "for var in result:\n",
    "    jsonp(var)"
   ]
  },
  {
   "cell_type": "markdown",
   "id": "911e75d7",
   "metadata": {},
   "source": [
    "Welcher Staat hat die meisten \"Theaters\"?"
   ]
  },
  {
   "cell_type": "code",
   "execution_count": 8,
   "id": "040ab255",
   "metadata": {},
   "outputs": [
    {
     "name": "stdout",
     "output_type": "stream",
     "text": [
      "{'_id': 'CA', 'countTheaters': 169}\n",
      "{'_id': 'TX', 'countTheaters': 160}\n",
      "{'_id': 'FL', 'countTheaters': 111}\n",
      "{'_id': 'NY', 'countTheaters': 81}\n",
      "{'_id': 'IL', 'countTheaters': 70}\n",
      "{'_id': 'PA', 'countTheaters': 55}\n",
      "{'_id': 'OH', 'countTheaters': 52}\n",
      "{'_id': 'VA', 'countTheaters': 45}\n",
      "{'_id': 'GA', 'countTheaters': 45}\n",
      "{'_id': 'MI', 'countTheaters': 45}\n"
     ]
    }
   ],
   "source": [
    "result = db.theaters.aggregate([\n",
    "    {\n",
    "        '$addFields': {\n",
    "            'state': '$location.address.state'\n",
    "        }\n",
    "    }, {\n",
    "        '$group': {\n",
    "            '_id': '$location.address.state', \n",
    "            'countTheaters': {\n",
    "                '$sum': 1\n",
    "            }\n",
    "        }\n",
    "    }, {\n",
    "        '$sort': {\n",
    "            'countTheaters': -1\n",
    "        }\n",
    "    }, {\n",
    "        '$limit': 10\n",
    "    }\n",
    "])\n",
    "\n",
    "for var in result:\n",
    "    jsonp(var)"
   ]
  },
  {
   "cell_type": "markdown",
   "id": "788437eb",
   "metadata": {},
   "source": [
    "Welche Stadt hat die meisten \"Theaters\" und in welchem Staat befindet sich die Stadt?"
   ]
  },
  {
   "cell_type": "code",
   "execution_count": 9,
   "id": "3909a0b0",
   "metadata": {},
   "outputs": [
    {
     "name": "stdout",
     "output_type": "stream",
     "text": [
      "{'city': 'Las Vegas', 'countTheaters': 29, 'state': 'NV'}\n",
      "{'city': 'Houston', 'countTheaters': 22, 'state': 'TX'}\n",
      "{'city': 'San Antonio', 'countTheaters': 14, 'state': 'TX'}\n",
      "{'city': 'Orlando', 'countTheaters': 13, 'state': 'FL'}\n",
      "{'city': 'Dallas', 'countTheaters': 12, 'state': 'TX'}\n",
      "{'city': 'Los Angeles', 'countTheaters': 12, 'state': 'CA'}\n",
      "{'city': 'Atlanta', 'countTheaters': 10, 'state': 'GA'}\n",
      "{'city': 'San Francisco', 'countTheaters': 9, 'state': 'CA'}\n",
      "{'city': 'Jacksonville', 'countTheaters': 9, 'state': 'FL'}\n",
      "{'city': 'Miami', 'countTheaters': 8, 'state': 'FL'}\n"
     ]
    }
   ],
   "source": [
    "result = db.theaters.aggregate([\n",
    "    {\n",
    "        '$addFields': {\n",
    "            'city': '$location.address.city'\n",
    "        }\n",
    "    }, {\n",
    "        '$group': {\n",
    "            '_id': '$city', \n",
    "            'countTheaters': {\n",
    "                '$sum': 1\n",
    "            }\n",
    "        }\n",
    "    }, {\n",
    "        '$sort': {\n",
    "            'countTheaters': -1\n",
    "        }\n",
    "    }, {\n",
    "        '$lookup': {\n",
    "            'from': 'theaters', \n",
    "            'localField': '_id', \n",
    "            'foreignField': 'location.address.city', \n",
    "            'as': 'theaters'\n",
    "        }\n",
    "    }, {\n",
    "        '$addFields': {\n",
    "            'state': {\n",
    "                '$first': '$theaters.location.address.state'\n",
    "            }\n",
    "        }\n",
    "    }, {\n",
    "        '$addFields': {\n",
    "            'city': '$_id'\n",
    "        }\n",
    "    }, {\n",
    "        '$project': {\n",
    "            'theaters': 0, \n",
    "            '_id': 0\n",
    "        }\n",
    "    }, {\n",
    "        '$limit': 10\n",
    "    }\n",
    "])\n",
    "\n",
    "for var in result:\n",
    "    jsonp(var)"
   ]
  }
 ],
 "metadata": {
  "kernelspec": {
   "display_name": "Python 3 (ipykernel)",
   "language": "python",
   "name": "python3"
  },
  "language_info": {
   "codemirror_mode": {
    "name": "ipython",
    "version": 3
   },
   "file_extension": ".py",
   "mimetype": "text/x-python",
   "name": "python",
   "nbconvert_exporter": "python",
   "pygments_lexer": "ipython3",
   "version": "3.9.7"
  }
 },
 "nbformat": 4,
 "nbformat_minor": 5
}
