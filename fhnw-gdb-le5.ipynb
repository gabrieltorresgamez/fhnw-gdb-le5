{
 "cells": [
  {
   "cell_type": "markdown",
   "id": "0df38b72",
   "metadata": {},
   "source": [
    "# Grundkompetenz Datenbanken LE5: Bericht"
   ]
  },
  {
   "cell_type": "markdown",
   "id": "31f4dbcf",
   "metadata": {},
   "source": [
    "## Zusammenfassung"
   ]
  },
  {
   "cell_type": "markdown",
   "id": "e3901b94",
   "metadata": {},
   "source": [
    "### Welche Datenbank hast Du gewählt? "
   ]
  },
  {
   "cell_type": "markdown",
   "id": "0fdd4013",
   "metadata": {},
   "source": [
    "Wir haben uns für MongoDB entschieden."
   ]
  },
  {
   "cell_type": "markdown",
   "id": "1ec33b12",
   "metadata": {},
   "source": [
    "### Warum hast Du diese gewählt?"
   ]
  },
  {
   "cell_type": "markdown",
   "id": "3afdc942",
   "metadata": {},
   "source": [
    "Wir haben uns für MongoDB entschieden weil MongoDB viele gut strukturierte Testdaten bereitstellt. Wir haben bis jetzt noch nie mit Dokumentdatenbanken gearbeitet und wollten somit unsere Kompetenzen erweitern. "
   ]
  },
  {
   "cell_type": "markdown",
   "id": "ef03cfd7",
   "metadata": {},
   "source": [
    "### Wie sehen die Daten aus?"
   ]
  },
  {
   "cell_type": "markdown",
   "id": "2eb617a1",
   "metadata": {},
   "source": [
    "Die Daten werden von MongoDB als json Strings zurückgegeben.\n",
    "Die Tabellen heissen unter MongoDB \"Collections\" und unterscheiden sich von herkömmlichen Tabellen in relationalen Datenbanken, indem sie kein Datenstrukturschema vorgeben."
   ]
  },
  {
   "cell_type": "markdown",
   "id": "68c2788c",
   "metadata": {},
   "source": [
    "### Inwiefern ist das besser als eine relationale Datenbank?"
   ]
  },
  {
   "cell_type": "markdown",
   "id": "a6f04723",
   "metadata": {},
   "source": [
    "Da die Daten kein Schema haben, können Änderungen bei der Datenerfassung leichter umgesetzt werden. Für grosse Datenservices lohnt sich MongoDB, da die Datenbank horizontal skalierbar ist (mehrere Nodes) und die Latenz und Auslastung weltweit minimiert werden kann. Bei objektorientiertem Code kann ein Objekt zusätzlich schnell geparst und weiterverarbeitet werden."
   ]
  },
  {
   "cell_type": "markdown",
   "id": "98285a86",
   "metadata": {},
   "source": [
    "### Wie sehen komplexe Fragestellungen (Abfrage) zu den Daten aus, und warum sind sie komplex? Vergleiche es mit eine SQL, würde es komplizierter sein, welche Vorteile gibt es gegenüber SQL?"
   ]
  },
  {
   "cell_type": "markdown",
   "id": "3f58c1a4",
   "metadata": {},
   "source": [
    "Bei komplexen Abfragen werden die Daten nicht nur abgelesen, sondern stark verarbeitet (Datenaufbereitung), bereinigt, gefiltert und mit anderen Daten kombiniert."
   ]
  },
  {
   "cell_type": "markdown",
   "id": "758f69b0",
   "metadata": {},
   "source": [
    "## Abfragen und Resultate"
   ]
  },
  {
   "cell_type": "markdown",
   "id": "a93bf8f3",
   "metadata": {},
   "source": [
    "### Anzahl Kommentare aller Filme zurückgeben, die mindestens 150 Awards gewonnen haben."
   ]
  },
  {
   "cell_type": "raw",
   "id": "a0387367",
   "metadata": {},
   "source": [
    "{'anzahlKommentare': 267}"
   ]
  },
  {
   "cell_type": "markdown",
   "id": "c2657153",
   "metadata": {},
   "source": [
    "Wenn man alle Kommentare von den Filmen, die mindestens 150 Awards gewonnen haben aufsummiert, dann erhält man 267 Kommentare."
   ]
  },
  {
   "cell_type": "markdown",
   "id": "6a5b8955",
   "metadata": {},
   "source": [
    "### Welche Benutzer haben bei Filme mit 100 oder mehr Awards die meisten Kommentare zum gleichen Film erfasst?"
   ]
  },
  {
   "cell_type": "raw",
   "id": "88e0b1d7",
   "metadata": {},
   "source": [
    "{'countComments': 5,\n",
    " 'movie': {'title': 'American Beauty'},\n",
    " 'user': {'name': 'Daenerys Targaryen'}}\n",
    "{'countComments': 5,\n",
    " 'movie': {'title': 'American Beauty'},\n",
    " 'user': {'name': 'Kathryn Sosa'}}\n",
    " ..."
   ]
  },
  {
   "cell_type": "markdown",
   "id": "55e1fde7",
   "metadata": {},
   "source": [
    "Daenerys Targaryen hat 5 Kommentare zum Film American Beauty geschrieben. Kathryn Sosa hat ebenfalls 5 Kommentare zum Film American Beauty hinterlassen."
   ]
  },
  {
   "cell_type": "markdown",
   "id": "80a89cc8",
   "metadata": {},
   "source": [
    "### Welche Stadt hat die meisten \"Theaters\" und in welchem Staat befindet sich die Stadt?"
   ]
  },
  {
   "cell_type": "raw",
   "id": "4ee7f5c9",
   "metadata": {},
   "source": [
    "{'city': 'Las Vegas', 'countTheaters': 29, 'state': 'NV'}\n",
    "{'city': 'Houston', 'countTheaters': 22, 'state': 'TX'}\n",
    "..."
   ]
  },
  {
   "cell_type": "markdown",
   "id": "04a71045",
   "metadata": {},
   "source": [
    "Die Stadt mit den meisten Theaters ist Las Vegas. Las Vegas hat 29 Theaters. Las Vegas befindet sich im Staat NV (Nevada)."
   ]
  },
  {
   "cell_type": "markdown",
   "id": "09473abc",
   "metadata": {},
   "source": [
    "### In welchem Land wurden die meisten Filme gedreht und wieviel Nominierungen haben diese Filme insgesamt erhalten."
   ]
  },
  {
   "cell_type": "raw",
   "id": "68aa329f",
   "metadata": {},
   "source": [
    "{'countMovies': 10403, 'countNominations': 96974, 'country': 'USA'}\n",
    "{'countMovies': 1980, 'countNominations': 18916, 'country': 'UK'}\n",
    "..."
   ]
  },
  {
   "cell_type": "markdown",
   "id": "78ff6872",
   "metadata": {},
   "source": [
    "Die meisten Filme wurden in der USA gedreht. In der USA wurden 10403 Filme gedreht. Die 10403 Filme haben insgesamt 96974 Awardnominierungen."
   ]
  },
  {
   "cell_type": "markdown",
   "id": "edb9d7b1",
   "metadata": {},
   "source": [
    "### Welches Genre hat die meisten Nominierungen pro Film? (Filme vom letztem Jahrtausend)"
   ]
  },
  {
   "cell_type": "raw",
   "id": "653e3b5f",
   "metadata": {},
   "source": [
    "{'countMovies': 410,\n",
    " 'countNominations': 5201,\n",
    " 'genre': 'Biography',\n",
    " 'nominationsPerFilm': 12.685365853658537}\n",
    "{'countMovies': 6,\n",
    " 'countNominations': 45,\n",
    " 'genre': 'History',\n",
    " 'nominationsPerFilm': 7.5}\n",
    " ..."
   ]
  },
  {
   "cell_type": "markdown",
   "id": "bbea9de2",
   "metadata": {},
   "source": [
    "Filme vom Genre Biography haben die meisten Nominierungen pro Film. Im Durchschnitt hat ein Film vom Genre Biography 12.7 Nominierungen."
   ]
  },
  {
   "cell_type": "markdown",
   "id": "38cbabc0",
   "metadata": {},
   "source": [
    "### Die besten Filme nach unserem Film-Score. Voraussetzung: Mindestens 10 User Bewertungen"
   ]
  },
  {
   "cell_type": "raw",
   "id": "496ffd05",
   "metadata": {},
   "source": [
    "{'customScore': 1392.0,\n",
    " 'plot': 'A medical engineer and an astronaut work together to survive after a '\n",
    "         'catastrophe destroys their shuttle and leaves them adrift in orbit.',\n",
    " 'title': 'Gravity',\n",
    " 'year': 2013}\n",
    " ..."
   ]
  },
  {
   "cell_type": "markdown",
   "id": "0fa05f99",
   "metadata": {},
   "source": [
    "Nach unserem Filmscore hat der Film Gravity den grössten Score. Gravity erzielt bei uns 1392 Punkte."
   ]
  },
  {
   "cell_type": "markdown",
   "id": "b59cf1ef",
   "metadata": {},
   "source": [
    "# Grundkompetenz Datenbanken LE5: Anhang"
   ]
  },
  {
   "cell_type": "markdown",
   "id": "3fcf3d1e",
   "metadata": {},
   "source": [
    "## Setup"
   ]
  },
  {
   "cell_type": "markdown",
   "id": "772f2fd2",
   "metadata": {},
   "source": [
    "Hier werden die benötigten Daten von der Konfigurationsdatei abgelesen, um eine Datenbankverbindung herzustellen."
   ]
  },
  {
   "cell_type": "code",
   "execution_count": 1,
   "id": "5b7570b0",
   "metadata": {},
   "outputs": [],
   "source": [
    "from pymongo import MongoClient\n",
    "import configparser\n",
    "import pprint\n",
    "\n",
    "jsonp = pprint.pprint"
   ]
  },
  {
   "cell_type": "code",
   "execution_count": 2,
   "id": "fac2b4e2",
   "metadata": {
    "scrolled": true
   },
   "outputs": [],
   "source": [
    "config = configparser.ConfigParser()\n",
    "config.read('config.ini')\n",
    "\n",
    "db_username = config['Database']['USER']\n",
    "db_password = config['Database']['PASS']\n",
    "db_hostname = config['Database']['HOST']"
   ]
  },
  {
   "cell_type": "markdown",
   "id": "40e40fd3",
   "metadata": {},
   "source": [
    "Hier wird die Datenbankverbindung hergestellt."
   ]
  },
  {
   "cell_type": "code",
   "execution_count": 3,
   "id": "488c8ac0",
   "metadata": {},
   "outputs": [],
   "source": [
    "client = MongoClient(\"mongodb+srv://{USERNAME}:{PASSWORD}@{HOSTNAME}\".format(USERNAME = db_username, \n",
    "                                                                             PASSWORD = db_password, \n",
    "                                                                             HOSTNAME = db_hostname))\n",
    "db = client.sample_mflix"
   ]
  },
  {
   "cell_type": "markdown",
   "id": "c23733cd",
   "metadata": {},
   "source": [
    "Testabfrage:"
   ]
  },
  {
   "cell_type": "code",
   "execution_count": 4,
   "id": "316ba49b",
   "metadata": {},
   "outputs": [
    {
     "name": "stdout",
     "output_type": "stream",
     "text": [
      "['sessions', 'movies', 'users', 'comments', 'theaters']\n"
     ]
    }
   ],
   "source": [
    "print(db.list_collection_names())"
   ]
  },
  {
   "cell_type": "markdown",
   "id": "7a77a7e2",
   "metadata": {},
   "source": [
    "## Komplexe Abfragen"
   ]
  },
  {
   "cell_type": "markdown",
   "id": "c0ae3284",
   "metadata": {},
   "source": [
    "Anzahl Kommentare aller Filme zurückgeben, die mindestens 150 Awards gewonnen haben."
   ]
  },
  {
   "cell_type": "code",
   "execution_count": 5,
   "id": "f2155bbb",
   "metadata": {},
   "outputs": [
    {
     "name": "stdout",
     "output_type": "stream",
     "text": [
      "{'anzahlKommentare': 267}\n"
     ]
    }
   ],
   "source": [
    "result = db.movies.aggregate([\n",
    "    {\n",
    "        '$addFields': {\n",
    "            'movie_id': {\n",
    "                '$toString': '$_id'\n",
    "            }\n",
    "        }\n",
    "    }, {\n",
    "        '$lookup': {\n",
    "            'from': 'comments', \n",
    "            'localField': '_id', \n",
    "            'foreignField': 'movie_id', \n",
    "            'as': 'comments'\n",
    "        }\n",
    "    }, {\n",
    "        '$addFields': {\n",
    "            'countComments': {\n",
    "                '$size': '$comments'\n",
    "            }\n",
    "        }\n",
    "    }, {\n",
    "        '$match': {\n",
    "            'countComments': {\n",
    "                '$gt': 0\n",
    "            }, \n",
    "            'awards.wins': {\n",
    "                '$gt': 149\n",
    "            }\n",
    "        }\n",
    "    }, {\n",
    "        '$group': {\n",
    "            '_id': None, \n",
    "            'anzahlKommentare': {\n",
    "                '$sum': '$countComments'\n",
    "            }\n",
    "        }\n",
    "    }, {\n",
    "        '$project': {\n",
    "            'anzahlKommentare': 1, \n",
    "            '_id': 0\n",
    "        }\n",
    "    }\n",
    "])\n",
    "\n",
    "for var in result:\n",
    "    jsonp(var)"
   ]
  },
  {
   "cell_type": "markdown",
   "id": "822c9325",
   "metadata": {},
   "source": [
    "Welche Benutzer haben bei Filme mit 100 oder mehr Awards die meisten Kommentare zum gleichen Film erfasst?"
   ]
  },
  {
   "cell_type": "code",
   "execution_count": 6,
   "id": "e5b31c92",
   "metadata": {},
   "outputs": [
    {
     "name": "stdout",
     "output_type": "stream",
     "text": [
      "{'countComments': 5,\n",
      " 'movie': {'title': 'American Beauty'},\n",
      " 'user': {'name': 'Kathryn Sosa'}}\n",
      "{'countComments': 5,\n",
      " 'movie': {'title': 'American Beauty'},\n",
      " 'user': {'name': 'Daenerys Targaryen'}}\n",
      "{'countComments': 4,\n",
      " 'movie': {'title': 'The Lord of the Rings: The Fellowship of the Ring'},\n",
      " 'user': {'name': 'Hot Pie'}}\n"
     ]
    }
   ],
   "source": [
    "result = db.comments.aggregate([\n",
    "    {\n",
    "        '$group': {\n",
    "            '_id': {\n",
    "                'movie_id': '$movie_id', \n",
    "                'email': '$email'\n",
    "            }, \n",
    "            'countComments': {\n",
    "                '$sum': 1\n",
    "            }\n",
    "        }\n",
    "    }, {\n",
    "        '$match': {\n",
    "            'countComments': {\n",
    "                '$gt': 1\n",
    "            }\n",
    "        }\n",
    "    }, {\n",
    "        '$sort': {\n",
    "            'countComments': -1\n",
    "        }\n",
    "    }, {\n",
    "        '$lookup': {\n",
    "            'from': 'movies', \n",
    "            'localField': '_id.movie_id', \n",
    "            'foreignField': '_id', \n",
    "            'as': 'movie'\n",
    "        }\n",
    "    }, {\n",
    "        '$addFields': {\n",
    "            'movie': {\n",
    "                '$first': '$movie'\n",
    "            }\n",
    "        }\n",
    "    }, {\n",
    "        '$lookup': {\n",
    "            'from': 'users', \n",
    "            'localField': '_id.email', \n",
    "            'foreignField': 'email', \n",
    "            'as': 'user'\n",
    "        }\n",
    "    }, {\n",
    "        '$addFields': {\n",
    "            'user': {\n",
    "                '$first': '$user'\n",
    "            }\n",
    "        }\n",
    "    }, {\n",
    "        '$match': {\n",
    "            'movie.awards.wins': {\n",
    "                '$gt': 99\n",
    "            }\n",
    "        }\n",
    "    }, {\n",
    "        '$limit': 3\n",
    "    }, {\n",
    "        '$project': {\n",
    "            '_id': 0, \n",
    "            'movie.title': 1, \n",
    "            'user.name': 1, \n",
    "            'countComments': 1\n",
    "        }\n",
    "    }\n",
    "])\n",
    "\n",
    "for var in result:\n",
    "    jsonp(var)"
   ]
  },
  {
   "cell_type": "markdown",
   "id": "cd5f2d89",
   "metadata": {},
   "source": [
    "Welche Stadt hat die meisten \"Theaters\" und in welchem Staat befindet sich die Stadt?"
   ]
  },
  {
   "cell_type": "code",
   "execution_count": 7,
   "id": "64c265e8",
   "metadata": {},
   "outputs": [
    {
     "name": "stdout",
     "output_type": "stream",
     "text": [
      "{'city': 'Las Vegas', 'countTheaters': 29, 'state': 'NV'}\n",
      "{'city': 'Houston', 'countTheaters': 22, 'state': 'TX'}\n",
      "{'city': 'San Antonio', 'countTheaters': 14, 'state': 'TX'}\n",
      "{'city': 'Orlando', 'countTheaters': 13, 'state': 'FL'}\n",
      "{'city': 'Dallas', 'countTheaters': 12, 'state': 'TX'}\n",
      "{'city': 'Los Angeles', 'countTheaters': 12, 'state': 'CA'}\n",
      "{'city': 'Atlanta', 'countTheaters': 10, 'state': 'GA'}\n",
      "{'city': 'San Francisco', 'countTheaters': 9, 'state': 'CA'}\n",
      "{'city': 'Jacksonville', 'countTheaters': 9, 'state': 'FL'}\n",
      "{'city': 'Chicago', 'countTheaters': 8, 'state': 'IL'}\n"
     ]
    }
   ],
   "source": [
    "result = db.theaters.aggregate([\n",
    "    {\n",
    "        '$addFields': {\n",
    "            'city': '$location.address.city'\n",
    "        }\n",
    "    }, {\n",
    "        '$group': {\n",
    "            '_id': '$city', \n",
    "            'countTheaters': {\n",
    "                '$sum': 1\n",
    "            }\n",
    "        }\n",
    "    }, {\n",
    "        '$sort': {\n",
    "            'countTheaters': -1\n",
    "        }\n",
    "    }, {\n",
    "        '$lookup': {\n",
    "            'from': 'theaters', \n",
    "            'localField': '_id', \n",
    "            'foreignField': 'location.address.city', \n",
    "            'as': 'theaters'\n",
    "        }\n",
    "    }, {\n",
    "        '$addFields': {\n",
    "            'state': {\n",
    "                '$first': '$theaters.location.address.state'\n",
    "            }\n",
    "        }\n",
    "    }, {\n",
    "        '$addFields': {\n",
    "            'city': '$_id'\n",
    "        }\n",
    "    }, {\n",
    "        '$project': {\n",
    "            'theaters': 0, \n",
    "            '_id': 0\n",
    "        }\n",
    "    }, {\n",
    "        '$limit': 10\n",
    "    }\n",
    "])\n",
    "\n",
    "for var in result:\n",
    "    jsonp(var)"
   ]
  },
  {
   "cell_type": "markdown",
   "id": "a099aba6",
   "metadata": {},
   "source": [
    "In welchem Land wurden die meisten Filme gedreht und wieviel Nominierungen haben diese Filme insgesamt erhalten."
   ]
  },
  {
   "cell_type": "code",
   "execution_count": 8,
   "id": "626aa34b",
   "metadata": {},
   "outputs": [
    {
     "name": "stdout",
     "output_type": "stream",
     "text": [
      "{'countMovies': 10403, 'countNominations': 96974, 'country': 'USA'}\n",
      "{'countMovies': 1980, 'countNominations': 18916, 'country': 'UK'}\n",
      "{'countMovies': 1662, 'countNominations': 12400, 'country': 'France'}\n",
      "{'countMovies': 894, 'countNominations': 7736, 'country': 'Italy'}\n",
      "{'countMovies': 845, 'countNominations': 6424, 'country': 'Canada'}\n"
     ]
    }
   ],
   "source": [
    "result = db.movies.aggregate([\n",
    "    {\n",
    "        '$group': {\n",
    "            '_id': {\n",
    "                '$first': '$countries'\n",
    "            }, \n",
    "            'countMovies': {\n",
    "                '$sum': 1\n",
    "            }, \n",
    "            'countNominations': {\n",
    "                '$sum': {\n",
    "                    '$add': [\n",
    "                        '$awards.nominations', '$awards.wins'\n",
    "                    ]\n",
    "                }\n",
    "            }\n",
    "        }\n",
    "    }, {\n",
    "        '$sort': {\n",
    "            'countMovies': -1\n",
    "        }\n",
    "    }, {\n",
    "        '$addFields': {\n",
    "            'country': '$_id'\n",
    "        }\n",
    "    }, {\n",
    "        '$project': {\n",
    "            '_id': 0\n",
    "        }\n",
    "    }, {\n",
    "        '$limit': 5\n",
    "    }\n",
    "])\n",
    "\n",
    "for var in result:\n",
    "    jsonp(var)"
   ]
  },
  {
   "cell_type": "markdown",
   "id": "fcc5fa92",
   "metadata": {},
   "source": [
    "Welches Genre hat die meisten Nominierungen pro Film? (Filme vom letztem Jahrtausend)"
   ]
  },
  {
   "cell_type": "code",
   "execution_count": 9,
   "id": "e37413bf",
   "metadata": {},
   "outputs": [
    {
     "name": "stdout",
     "output_type": "stream",
     "text": [
      "{'countMovies': 410,\n",
      " 'countNominations': 5201,\n",
      " 'genre': 'Biography',\n",
      " 'nominationsPerFilm': 12.685365853658537}\n",
      "{'countMovies': 6,\n",
      " 'countNominations': 45,\n",
      " 'genre': 'History',\n",
      " 'nominationsPerFilm': 7.5}\n",
      "{'countMovies': 48,\n",
      " 'countNominations': 359,\n",
      " 'genre': 'Mystery',\n",
      " 'nominationsPerFilm': 7.479166666666667}\n"
     ]
    }
   ],
   "source": [
    "result = db.movies.aggregate([\n",
    "    {\n",
    "        '$match': {\n",
    "            'year': {\n",
    "                '$lt': 2000\n",
    "            }\n",
    "        }\n",
    "    }, {\n",
    "        '$group': {\n",
    "            '_id': {\n",
    "                '$first': '$genres'\n",
    "            }, \n",
    "            'countMovies': {\n",
    "                '$sum': 1\n",
    "            }, \n",
    "            'countNominations': {\n",
    "                '$sum': {\n",
    "                    '$add': [\n",
    "                        '$awards.nominations', '$awards.wins'\n",
    "                    ]\n",
    "                }\n",
    "            }\n",
    "        }\n",
    "    }, {\n",
    "        '$addFields': {\n",
    "            'nominationsPerFilm': {\n",
    "                '$divide': [\n",
    "                    '$countNominations', '$countMovies'\n",
    "                ]\n",
    "            }\n",
    "        }\n",
    "    }, {\n",
    "        '$addFields': {\n",
    "            'genre': '$_id'\n",
    "        }\n",
    "    }, {\n",
    "        '$sort': {\n",
    "            'nominationsPerFilm': -1\n",
    "        }\n",
    "    }, {\n",
    "        '$limit': 3\n",
    "    }, {\n",
    "        '$project': {\n",
    "            '_id': 0\n",
    "        }\n",
    "    }\n",
    "])\n",
    "\n",
    "for var in result:\n",
    "    jsonp(var)"
   ]
  },
  {
   "cell_type": "markdown",
   "id": "a3d70c82",
   "metadata": {},
   "source": [
    "Die besten Filme nach unserem Film-Score. Voraussetzung: Mindestens 10 User Bewertungen"
   ]
  },
  {
   "cell_type": "code",
   "execution_count": 10,
   "id": "26a716f0",
   "metadata": {},
   "outputs": [
    {
     "name": "stdout",
     "output_type": "stream",
     "text": [
      "{'customScore': 1392.0,\n",
      " 'plot': 'A medical engineer and an astronaut work together to survive after a '\n",
      "         'catastrophe destroys their shuttle and leaves them adrift in orbit.',\n",
      " 'title': 'Gravity',\n",
      " 'year': 2013}\n",
      "{'customScore': 1392.0,\n",
      " 'plot': 'A medical engineer and an astronaut work together to survive after a '\n",
      "         'catastrophe destroys their shuttle and leaves them adrift in orbit.',\n",
      " 'title': 'Gravity',\n",
      " 'year': 2013}\n",
      "{'customScore': 1383.0,\n",
      " 'plot': 'Illustrated upon the progress of his latest Broadway play, a former '\n",
      "         \"popular actor's struggle to cope with his current life as a wasted \"\n",
      "         'actor is shown.',\n",
      " 'title': 'Birdman: Or (The Unexpected Virtue of Ignorance)',\n",
      " 'year': 2014}\n"
     ]
    }
   ],
   "source": [
    "result = db.movies.aggregate([\n",
    "    {\n",
    "        '$match': {\n",
    "            'tomatoes.viewer.numReviews': {\n",
    "                '$gt': 9\n",
    "            }, \n",
    "            'imdb.votes': {\n",
    "                '$gt': 9\n",
    "            }\n",
    "        }\n",
    "    }, {\n",
    "        '$addFields': {\n",
    "            'customScore': {\n",
    "                '$add': [\n",
    "                    {\n",
    "                        '$multiply': [\n",
    "                            100, '$tomatoes.viewer.rating'\n",
    "                        ]\n",
    "                    }, {\n",
    "                        '$multiply': [\n",
    "                            50, '$imdb.rating'\n",
    "                        ]\n",
    "                    }, {\n",
    "                        '$multiply': [\n",
    "                            1, '$awards.nominations'\n",
    "                        ]\n",
    "                    }, {\n",
    "                        '$multiply': [\n",
    "                            2, '$awards.wins'\n",
    "                        ]\n",
    "                    }\n",
    "                ]\n",
    "            }\n",
    "        }\n",
    "    }, {\n",
    "        '$sort': {\n",
    "            'customScore': -1\n",
    "        }\n",
    "    }, {\n",
    "        '$project': {\n",
    "            '_id': 0, \n",
    "            'title': 1, \n",
    "            'customScore': 1, \n",
    "            'plot': 1, \n",
    "            'year': 1\n",
    "        }\n",
    "    }, {\n",
    "        '$limit': 3\n",
    "    }\n",
    "])\n",
    "\n",
    "for var in result:\n",
    "    jsonp(var)"
   ]
  }
 ],
 "metadata": {
  "kernelspec": {
   "display_name": "Python 3 (ipykernel)",
   "language": "python",
   "name": "python3"
  },
  "language_info": {
   "codemirror_mode": {
    "name": "ipython",
    "version": 3
   },
   "file_extension": ".py",
   "mimetype": "text/x-python",
   "name": "python",
   "nbconvert_exporter": "python",
   "pygments_lexer": "ipython3",
   "version": "3.9.7"
  }
 },
 "nbformat": 4,
 "nbformat_minor": 5
}
