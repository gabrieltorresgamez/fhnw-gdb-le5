{
 "cells": [
  {
   "cell_type": "markdown",
   "id": "0df38b72",
   "metadata": {},
   "source": [
    "# Grundkompetenz Datenbanken LE5: Bericht"
   ]
  },
  {
   "cell_type": "markdown",
   "id": "31f4dbcf",
   "metadata": {},
   "source": [
    "## Zusammenfassung"
   ]
  },
  {
   "cell_type": "markdown",
   "id": "e3901b94",
   "metadata": {},
   "source": [
    "### Welche Datenbank hast Du gewählt? "
   ]
  },
  {
   "cell_type": "markdown",
   "id": "0fdd4013",
   "metadata": {},
   "source": [
    "Wir haben uns für MongoDB entschieden."
   ]
  },
  {
   "cell_type": "markdown",
   "id": "1ec33b12",
   "metadata": {},
   "source": [
    "### Warum hast Du diese gewählt?"
   ]
  },
  {
   "cell_type": "markdown",
   "id": "3afdc942",
   "metadata": {},
   "source": [
    "Wir haben uns für MongoDB entschieden weil MongoDB viele gut strukturierte Testdaten bereitstellt. Wir haben bis jetzt noch nie mit Dokumentdatenbanken gearbeitet und wollten somit unsere Kompetenzen erweitern. "
   ]
  },
  {
   "cell_type": "markdown",
   "id": "ef03cfd7",
   "metadata": {},
   "source": [
    "### Wie sehen die Daten aus?"
   ]
  },
  {
   "cell_type": "markdown",
   "id": "2eb617a1",
   "metadata": {},
   "source": [
    "Die Daten werden von MongoDB als json Strings zurückgegeben.\n",
    "Die Tabellen heissen unter MongoDB \"Collections\" und unterscheiden sich von herkömmlichen Tabellen in relationalen Datenbanken, indem sie kein Datenstrakturschema vorgeben."
   ]
  },
  {
   "cell_type": "markdown",
   "id": "68c2788c",
   "metadata": {},
   "source": [
    "### Inwiefern ist das besser als eine relationale Datenbank?"
   ]
  },
  {
   "cell_type": "markdown",
   "id": "a6f04723",
   "metadata": {},
   "source": [
    "Da die Daten kein Schema haben, können Änderungen bei der Datenerfassung leichter umgesetzt werden. Für grosse Datenservices lohnt sich MongoDB, da die Datenbank horizontal skalierbar ist (mehrere Nodes) und die Latenz und Auslastung weltweit minimiert werden kann. Bei objektorientiertem Code kann ein Objekt zusätzlich schnell geparst und weiterverarbeitet werden."
   ]
  },
  {
   "cell_type": "markdown",
   "id": "98285a86",
   "metadata": {},
   "source": [
    "### Wie sehen komplexe Fragestellungen (Abfrage) zu den Daten aus, und warum sind sie komplex? Vergleiche es mit eine SQL, würde es komplizierter sein, welche Vorteile gibt es gegenüber SQL?"
   ]
  },
  {
   "cell_type": "markdown",
   "id": "3f58c1a4",
   "metadata": {},
   "source": [
    "Bei komplexen Abfragen werden die Daten nicht nur abgelesen, sondern stark verarbeitet (Datenaufbereitung), bereinigt, gefiltert und mit anderen Daten kombiniert."
   ]
  },
  {
   "cell_type": "markdown",
   "id": "758f69b0",
   "metadata": {},
   "source": [
    "## Abfragen und Resultate"
   ]
  },
  {
   "cell_type": "markdown",
   "id": "a93bf8f3",
   "metadata": {},
   "source": [
    "### Abfrage"
   ]
  },
  {
   "cell_type": "raw",
   "id": "a0387367",
   "metadata": {},
   "source": [
    "Resultat"
   ]
  },
  {
   "cell_type": "markdown",
   "id": "c2657153",
   "metadata": {},
   "source": [
    "Text"
   ]
  },
  {
   "cell_type": "markdown",
   "id": "b4063b00",
   "metadata": {},
   "source": [
    "### Abfrage"
   ]
  },
  {
   "cell_type": "raw",
   "id": "76a705ec",
   "metadata": {},
   "source": [
    "Resultat"
   ]
  },
  {
   "cell_type": "markdown",
   "id": "e9b3fb1f",
   "metadata": {},
   "source": [
    "Text"
   ]
  },
  {
   "cell_type": "markdown",
   "id": "6a5b8955",
   "metadata": {},
   "source": [
    "### Abfrage"
   ]
  },
  {
   "cell_type": "raw",
   "id": "88e0b1d7",
   "metadata": {},
   "source": [
    "Resultat"
   ]
  },
  {
   "cell_type": "markdown",
   "id": "55e1fde7",
   "metadata": {},
   "source": [
    "Text"
   ]
  },
  {
   "cell_type": "markdown",
   "id": "dc0b848c",
   "metadata": {},
   "source": [
    "### Abfrage"
   ]
  },
  {
   "cell_type": "raw",
   "id": "c0cdca16",
   "metadata": {},
   "source": [
    "Resultat"
   ]
  },
  {
   "cell_type": "markdown",
   "id": "85ae998c",
   "metadata": {},
   "source": [
    "Text"
   ]
  },
  {
   "cell_type": "markdown",
   "id": "80a89cc8",
   "metadata": {},
   "source": [
    "### Welche Stadt hat die meisten \"Theaters\" und in welchem Staat befindet sich die Stadt?"
   ]
  },
  {
   "cell_type": "raw",
   "id": "4ee7f5c9",
   "metadata": {},
   "source": [
    "{'city': 'Las Vegas', 'countTheaters': 29, 'state': 'NV'}\n",
    "{'city': 'Houston', 'countTheaters': 22, 'state': 'TX'}\n",
    "..."
   ]
  },
  {
   "cell_type": "markdown",
   "id": "04a71045",
   "metadata": {},
   "source": [
    "Die Stadt mit den meisten Theaters ist Las Vegas. Las Vegas hat 29 Theaters. Las Vegas befindet sich im Staat NV (Nevada)."
   ]
  },
  {
   "cell_type": "markdown",
   "id": "09473abc",
   "metadata": {},
   "source": [
    "### In welchem Land wurden die meisten Filme gedreht und wieviel Nominierungen haben diese Filme insgesamt erhalten."
   ]
  },
  {
   "cell_type": "raw",
   "id": "68aa329f",
   "metadata": {},
   "source": [
    "{'countMovies': 10403, 'countNominations': 96974, 'country': 'USA'}\n",
    "{'countMovies': 1980, 'countNominations': 18916, 'country': 'UK'}\n",
    "..."
   ]
  },
  {
   "cell_type": "markdown",
   "id": "78ff6872",
   "metadata": {},
   "source": [
    "Die meisten Filme wurden in der USA gedreht. In der USA wurden 10403 Filme gedreht. Die 10403 Filme haben insgesamt 96974 Awardnominierungen."
   ]
  },
  {
   "cell_type": "markdown",
   "id": "edb9d7b1",
   "metadata": {},
   "source": [
    "### Welches Genre hat die meisten Nominierungen pro Film? (Filme vom letztem Jahrtausend)"
   ]
  },
  {
   "cell_type": "raw",
   "id": "653e3b5f",
   "metadata": {},
   "source": [
    "{'countMovies': 410,\n",
    " 'countNominations': 5201,\n",
    " 'genre': 'Biography',\n",
    " 'nominationsPerFilm': 12.685365853658537}\n",
    "{'countMovies': 6,\n",
    " 'countNominations': 45,\n",
    " 'genre': 'History',\n",
    " 'nominationsPerFilm': 7.5}\n",
    " ..."
   ]
  },
  {
   "cell_type": "markdown",
   "id": "bbea9de2",
   "metadata": {},
   "source": [
    "Filme vom Genre Biography haben die meisten Nominierungen pro Film. Im Durchschnitt hat ein Film vom Genre Biography 12.7 Nominierungen."
   ]
  },
  {
   "cell_type": "markdown",
   "id": "38cbabc0",
   "metadata": {},
   "source": [
    "### Die besten Filme nach unserem Film-Score. Voraussetzung: Mindestens 10 User Bewertungen"
   ]
  },
  {
   "cell_type": "raw",
   "id": "bf244b91",
   "metadata": {},
   "source": [
    "{'customScore': 1392.0,\n",
    " 'plot': 'A medical engineer and an astronaut work together to survive after a '\n",
    "         'catastrophe destroys their shuttle and leaves them adrift in orbit.',\n",
    " 'title': 'Gravity',\n",
    " 'year': 2013}\n",
    "{'customScore': 1392.0,\n",
    " 'plot': 'A medical engineer and an astronaut work together to survive after a '\n",
    "         'catastrophe destroys their shuttle and leaves them adrift in orbit.',\n",
    " 'title': 'Gravity',\n",
    " 'year': 2013}\n",
    " ..."
   ]
  },
  {
   "cell_type": "markdown",
   "id": "0fa05f99",
   "metadata": {},
   "source": [
    "Nach unserem Filmscore hat der Film Gravity den grössten Score. Gravity erzielt bei uns 1392 Punkte."
   ]
  },
  {
   "cell_type": "markdown",
   "id": "b59cf1ef",
   "metadata": {},
   "source": [
    "# Grundkompetenz Datenbanken LE5: Anhang"
   ]
  },
  {
   "cell_type": "markdown",
   "id": "3fcf3d1e",
   "metadata": {},
   "source": [
    "## Setup"
   ]
  },
  {
   "cell_type": "markdown",
   "id": "772f2fd2",
   "metadata": {},
   "source": [
    "Hier werden die benötigten Daten von der Konfigurationsdatei abgelesen, um eine Datenbankverbindung herzustellen."
   ]
  },
  {
   "cell_type": "code",
   "execution_count": 1,
   "id": "5b7570b0",
   "metadata": {},
   "outputs": [],
   "source": [
    "from pymongo import MongoClient\n",
    "import configparser\n",
    "import pprint\n",
    "jsonp = pprint.pprint"
   ]
  },
  {
   "cell_type": "code",
   "execution_count": 2,
   "id": "fac2b4e2",
   "metadata": {
    "scrolled": true
   },
   "outputs": [],
   "source": [
    "config = configparser.ConfigParser()\n",
    "config.read('config.ini')\n",
    "\n",
    "db_username = config['Database']['USER']\n",
    "db_password = config['Database']['PASS']\n",
    "db_hostname = config['Database']['HOST']"
   ]
  },
  {
   "cell_type": "markdown",
   "id": "40e40fd3",
   "metadata": {},
   "source": [
    "Hier wird die Datenbankverbindung hergestellt."
   ]
  },
  {
   "cell_type": "code",
   "execution_count": 3,
   "id": "488c8ac0",
   "metadata": {},
   "outputs": [],
   "source": [
    "client = MongoClient(\"mongodb+srv://{USERNAME}:{PASSWORD}@{HOSTNAME}\".format(USERNAME = db_username, \n",
    "                                                                             PASSWORD = db_password, \n",
    "                                                                             HOSTNAME = db_hostname))\n",
    "db = client.sample_mflix"
   ]
  },
  {
   "cell_type": "markdown",
   "id": "c23733cd",
   "metadata": {},
   "source": [
    "Testabfrage:"
   ]
  },
  {
   "cell_type": "code",
   "execution_count": 4,
   "id": "316ba49b",
   "metadata": {},
   "outputs": [
    {
     "name": "stdout",
     "output_type": "stream",
     "text": [
      "['sessions', 'movies', 'users', 'comments', 'theaters']\n"
     ]
    }
   ],
   "source": [
    "print(db.list_collection_names())"
   ]
  },
  {
   "cell_type": "markdown",
   "id": "7a77a7e2",
   "metadata": {},
   "source": [
    "## Komplexe Abfragen"
   ]
  },
  {
   "cell_type": "markdown",
   "id": "c0ae3284",
   "metadata": {},
   "source": [
    "Anzahl Kommentare aller Filme zurückgeben, die mindestens 150 Awards gewonnen haben."
   ]
  },
  {
   "cell_type": "code",
   "execution_count": 5,
   "id": "f2155bbb",
   "metadata": {},
   "outputs": [
    {
     "name": "stdout",
     "output_type": "stream",
     "text": [
      "{'awards': {'wins': 267}, 'countComments': 1, 'title': '12 Years a Slave'}\n",
      "{'awards': {'wins': 231}, 'countComments': 1, 'title': 'Gravity'}\n",
      "{'awards': {'wins': 185}, 'countComments': 1, 'title': 'Boyhood'}\n",
      "{'awards': {'wins': 175},\n",
      " 'countComments': 133,\n",
      " 'title': 'The Lord of the Rings: The Return of the King'}\n",
      "{'awards': {'wins': 172}, 'countComments': 1, 'title': 'No Country for Old Men'}\n",
      "{'awards': {'wins': 171}, 'countComments': 1, 'title': 'The Social Network'}\n",
      "{'awards': {'wins': 162}, 'countComments': 1, 'title': 'Inception'}\n",
      "{'awards': {'wins': 161}, 'countComments': 127, 'title': 'Slumdog Millionaire'}\n",
      "{'awards': {'wins': 161}, 'countComments': 1, 'title': 'The Artist'}\n"
     ]
    }
   ],
   "source": [
    "result = db.movies.aggregate([\n",
    "    {\n",
    "        '$addFields': {\n",
    "            'movie_id': {\n",
    "                '$toString': '$_id'\n",
    "            }\n",
    "        }\n",
    "    }, {\n",
    "        '$lookup': {\n",
    "            'from': 'comments', \n",
    "            'localField': '_id', \n",
    "            'foreignField': 'movie_id', \n",
    "            'as': 'comments'\n",
    "        }\n",
    "    }, {\n",
    "        '$addFields': {\n",
    "            'countComments': {\n",
    "                '$size': '$comments'\n",
    "            }\n",
    "        }\n",
    "    }, {\n",
    "        '$match': {\n",
    "            'countComments': {\n",
    "                '$gt': 0\n",
    "            },\n",
    "            'awards.wins': {\n",
    "                '$gt': 149\n",
    "            }\n",
    "        }\n",
    "    }, {\n",
    "        '$project': {\n",
    "            'countComments': 1,\n",
    "            'awards.wins': 1,\n",
    "            'title': 1, \n",
    "            '_id': 0\n",
    "        }\n",
    "    }, {\n",
    "        '$sort': {\n",
    "            'awards.wins': -1\n",
    "        }\n",
    "    }\n",
    "])\n",
    "\n",
    "for var in result:\n",
    "    jsonp(var)"
   ]
  },
  {
   "cell_type": "markdown",
   "id": "822c9325",
   "metadata": {},
   "source": [
    "Welche 10 User haben die meisten Kommentare geschrieben?"
   ]
  },
  {
   "cell_type": "code",
   "execution_count": 6,
   "id": "e5b31c92",
   "metadata": {},
   "outputs": [
    {
     "name": "stdout",
     "output_type": "stream",
     "text": [
      "{'countComments': 277,\n",
      " 'userinfo': [{'email': 'roger_ashton-griffiths@gameofthron.es',\n",
      "               'name': 'Mace Tyrell'}]}\n",
      "{'countComments': 260,\n",
      " 'userinfo': [{'email': 'ron_donachie@gameofthron.es',\n",
      "               'name': 'Rodrik Cassel'}]}\n",
      "{'countComments': 260,\n",
      " 'userinfo': [{'email': 'jonathan_pryce@gameofthron.es',\n",
      "               'name': 'The High Sparrow'}]}\n",
      "{'countComments': 258,\n",
      " 'userinfo': [{'email': 'nathalie_emmanuel@gameofthron.es',\n",
      "               'name': 'Missandei'}]}\n",
      "{'countComments': 257,\n",
      " 'userinfo': [{'email': 'robert_jordan@fakegmail.com',\n",
      "               'name': 'Robert Jordan'}]}\n",
      "{'countComments': 251,\n",
      " 'userinfo': [{'email': 'sophie_turner@gameofthron.es', 'name': 'Sansa Stark'}]}\n",
      "{'countComments': 251,\n",
      " 'userinfo': [{'email': 'paul_kaye@gameofthron.es', 'name': 'Thoros of Myr'}]}\n",
      "{'countComments': 248,\n",
      " 'userinfo': [{'email': 'nicholas_johnson@fakegmail.com',\n",
      "               'name': 'Nicholas Johnson'}]}\n",
      "{'countComments': 248,\n",
      " 'userinfo': [{'email': 'donna_smith@fakegmail.com', 'name': 'Donna Smith'}]}\n",
      "{'countComments': 247,\n",
      " 'userinfo': [{'email': 'richard_dormer@gameofthron.es',\n",
      "               'name': 'Beric Dondarrion'}]}\n"
     ]
    }
   ],
   "source": [
    "result = db.comments.aggregate([\n",
    "    {\n",
    "        '$group': {\n",
    "            '_id': '$email', \n",
    "            'countComments': {\n",
    "                '$sum': 1\n",
    "            }\n",
    "        }\n",
    "    }, {\n",
    "        '$sort': {\n",
    "            'countComments': -1\n",
    "        }\n",
    "    }, {\n",
    "        '$limit': 10\n",
    "    }, {\n",
    "        '$lookup': {\n",
    "            'from': 'users', \n",
    "            'localField': '_id', \n",
    "            'foreignField': 'email', \n",
    "            'as': 'userinfo'\n",
    "        }\n",
    "    }, {\n",
    "        '$project': {\n",
    "            'userinfo.name': 1, \n",
    "            'userinfo.email': 1, \n",
    "            'countComments': 1, \n",
    "            '_id': 0\n",
    "        }\n",
    "    }\n",
    "])\n",
    "\n",
    "for var in result:\n",
    "    jsonp(var)"
   ]
  },
  {
   "cell_type": "markdown",
   "id": "3289c861",
   "metadata": {},
   "source": [
    "Über welchen 10 Filme wurde am meisten kommentiert?"
   ]
  },
  {
   "cell_type": "code",
   "execution_count": 7,
   "id": "a09c24c4",
   "metadata": {},
   "outputs": [
    {
     "name": "stdout",
     "output_type": "stream",
     "text": [
      "{'countComments': 161, 'movie': [{'title': 'The Taking of Pelham 1 2 3'}]}\n",
      "{'countComments': 158, 'movie': [{'title': 'About a Boy'}]}\n",
      "{'countComments': 158, 'movie': [{'title': 'Terminator Salvation'}]}\n",
      "{'countComments': 158, 'movie': [{'title': '50 First Dates'}]}\n",
      "{'countComments': 158, 'movie': [{'title': \"Ocean's Eleven\"}]}\n",
      "{'countComments': 157, 'movie': [{'title': 'The Mummy'}]}\n",
      "{'countComments': 157, 'movie': [{'title': 'Sherlock Holmes'}]}\n",
      "{'countComments': 155, 'movie': [{'title': 'Hellboy II: The Golden Army'}]}\n",
      "{'countComments': 154, 'movie': [{'title': 'The Mummy Returns'}]}\n",
      "{'countComments': 154,\n",
      " 'movie': [{'title': 'Anchorman: The Legend of Ron Burgundy'}]}\n"
     ]
    }
   ],
   "source": [
    "result = db.comments.aggregate([\n",
    "    {\n",
    "        '$group': {\n",
    "            '_id': '$movie_id', \n",
    "            'countComments': {\n",
    "                '$sum': 1\n",
    "            }\n",
    "        }\n",
    "    }, {\n",
    "        '$lookup': {\n",
    "            'from': 'movies', \n",
    "            'localField': '_id', \n",
    "            'foreignField': '_id', \n",
    "            'as': 'movie'\n",
    "        }\n",
    "    }, {\n",
    "        '$sort': {\n",
    "            'countComments': -1\n",
    "        }\n",
    "    }, {\n",
    "        '$limit': 10\n",
    "    }, {\n",
    "        '$project': {\n",
    "            'countComments': 1, \n",
    "            'movie.title': 1,\n",
    "            '_id': 0\n",
    "        }\n",
    "    }\n",
    "])\n",
    "\n",
    "for var in result:\n",
    "    jsonp(var)"
   ]
  },
  {
   "cell_type": "markdown",
   "id": "450cd7fd",
   "metadata": {},
   "source": [
    "Welcher Staat hat die meisten \"Theaters\"?"
   ]
  },
  {
   "cell_type": "code",
   "execution_count": 8,
   "id": "bf7439a8",
   "metadata": {},
   "outputs": [
    {
     "name": "stdout",
     "output_type": "stream",
     "text": [
      "{'_id': 'CA', 'countTheaters': 169}\n",
      "{'_id': 'TX', 'countTheaters': 160}\n",
      "{'_id': 'FL', 'countTheaters': 111}\n",
      "{'_id': 'NY', 'countTheaters': 81}\n",
      "{'_id': 'IL', 'countTheaters': 70}\n",
      "{'_id': 'PA', 'countTheaters': 55}\n",
      "{'_id': 'OH', 'countTheaters': 52}\n",
      "{'_id': 'MI', 'countTheaters': 45}\n",
      "{'_id': 'NJ', 'countTheaters': 45}\n",
      "{'_id': 'GA', 'countTheaters': 45}\n"
     ]
    }
   ],
   "source": [
    "result = db.theaters.aggregate([\n",
    "    {\n",
    "        '$addFields': {\n",
    "            'state': '$location.address.state'\n",
    "        }\n",
    "    }, {\n",
    "        '$group': {\n",
    "            '_id': '$location.address.state', \n",
    "            'countTheaters': {\n",
    "                '$sum': 1\n",
    "            }\n",
    "        }\n",
    "    }, {\n",
    "        '$sort': {\n",
    "            'countTheaters': -1\n",
    "        }\n",
    "    }, {\n",
    "        '$limit': 10\n",
    "    }\n",
    "])\n",
    "\n",
    "for var in result:\n",
    "    jsonp(var)"
   ]
  },
  {
   "cell_type": "markdown",
   "id": "cd5f2d89",
   "metadata": {},
   "source": [
    "Welche Stadt hat die meisten \"Theaters\" und in welchem Staat befindet sich die Stadt?"
   ]
  },
  {
   "cell_type": "code",
   "execution_count": 9,
   "id": "64c265e8",
   "metadata": {},
   "outputs": [
    {
     "name": "stdout",
     "output_type": "stream",
     "text": [
      "{'city': 'Las Vegas', 'countTheaters': 29, 'state': 'NV'}\n",
      "{'city': 'Houston', 'countTheaters': 22, 'state': 'TX'}\n",
      "{'city': 'San Antonio', 'countTheaters': 14, 'state': 'TX'}\n",
      "{'city': 'Orlando', 'countTheaters': 13, 'state': 'FL'}\n",
      "{'city': 'Dallas', 'countTheaters': 12, 'state': 'TX'}\n",
      "{'city': 'Los Angeles', 'countTheaters': 12, 'state': 'CA'}\n",
      "{'city': 'Atlanta', 'countTheaters': 10, 'state': 'GA'}\n",
      "{'city': 'San Francisco', 'countTheaters': 9, 'state': 'CA'}\n",
      "{'city': 'Jacksonville', 'countTheaters': 9, 'state': 'FL'}\n",
      "{'city': 'Minneapolis', 'countTheaters': 8, 'state': 'MN'}\n"
     ]
    }
   ],
   "source": [
    "result = db.theaters.aggregate([\n",
    "    {\n",
    "        '$addFields': {\n",
    "            'city': '$location.address.city'\n",
    "        }\n",
    "    }, {\n",
    "        '$group': {\n",
    "            '_id': '$city', \n",
    "            'countTheaters': {\n",
    "                '$sum': 1\n",
    "            }\n",
    "        }\n",
    "    }, {\n",
    "        '$sort': {\n",
    "            'countTheaters': -1\n",
    "        }\n",
    "    }, {\n",
    "        '$lookup': {\n",
    "            'from': 'theaters', \n",
    "            'localField': '_id', \n",
    "            'foreignField': 'location.address.city', \n",
    "            'as': 'theaters'\n",
    "        }\n",
    "    }, {\n",
    "        '$addFields': {\n",
    "            'state': {\n",
    "                '$first': '$theaters.location.address.state'\n",
    "            }\n",
    "        }\n",
    "    }, {\n",
    "        '$addFields': {\n",
    "            'city': '$_id'\n",
    "        }\n",
    "    }, {\n",
    "        '$project': {\n",
    "            'theaters': 0, \n",
    "            '_id': 0\n",
    "        }\n",
    "    }, {\n",
    "        '$limit': 10\n",
    "    }\n",
    "])\n",
    "\n",
    "for var in result:\n",
    "    jsonp(var)"
   ]
  },
  {
   "cell_type": "markdown",
   "id": "a099aba6",
   "metadata": {},
   "source": [
    "In welchem Land wurden die meisten Filme gedreht und wieviel Nominierungen haben diese Filme insgesamt erhalten."
   ]
  },
  {
   "cell_type": "code",
   "execution_count": 10,
   "id": "626aa34b",
   "metadata": {},
   "outputs": [
    {
     "name": "stdout",
     "output_type": "stream",
     "text": [
      "{'countMovies': 10403, 'countNominations': 96974, 'country': 'USA'}\n",
      "{'countMovies': 1980, 'countNominations': 18916, 'country': 'UK'}\n",
      "{'countMovies': 1662, 'countNominations': 12400, 'country': 'France'}\n",
      "{'countMovies': 894, 'countNominations': 7736, 'country': 'Italy'}\n",
      "{'countMovies': 845, 'countNominations': 6424, 'country': 'Canada'}\n"
     ]
    }
   ],
   "source": [
    "result = db.movies.aggregate([\n",
    "    {\n",
    "        '$group': {\n",
    "            '_id': {\n",
    "                '$first': '$countries'\n",
    "            }, \n",
    "            'countMovies': {\n",
    "                '$sum': 1\n",
    "            }, \n",
    "            'countNominations': {\n",
    "                '$sum': {\n",
    "                    '$add': [\n",
    "                        '$awards.nominations', '$awards.wins'\n",
    "                    ]\n",
    "                }\n",
    "            }\n",
    "        }\n",
    "    }, {\n",
    "        '$sort': {\n",
    "            'countMovies': -1\n",
    "        }\n",
    "    }, {\n",
    "        '$addFields': {\n",
    "            'country': '$_id'\n",
    "        }\n",
    "    }, {\n",
    "        '$project': {\n",
    "            '_id': 0\n",
    "        }\n",
    "    }, {\n",
    "        '$limit': 5\n",
    "    }\n",
    "])\n",
    "\n",
    "for var in result:\n",
    "    jsonp(var)"
   ]
  },
  {
   "cell_type": "markdown",
   "id": "fcc5fa92",
   "metadata": {},
   "source": [
    "Welches Genre hat die meisten Nominierungen pro Film? (Filme vom letztem Jahrtausend)"
   ]
  },
  {
   "cell_type": "code",
   "execution_count": 11,
   "id": "e37413bf",
   "metadata": {},
   "outputs": [
    {
     "name": "stdout",
     "output_type": "stream",
     "text": [
      "{'countMovies': 410,\n",
      " 'countNominations': 5201,\n",
      " 'genre': 'Biography',\n",
      " 'nominationsPerFilm': 12.685365853658537}\n",
      "{'countMovies': 6,\n",
      " 'countNominations': 45,\n",
      " 'genre': 'History',\n",
      " 'nominationsPerFilm': 7.5}\n",
      "{'countMovies': 48,\n",
      " 'countNominations': 359,\n",
      " 'genre': 'Mystery',\n",
      " 'nominationsPerFilm': 7.479166666666667}\n"
     ]
    }
   ],
   "source": [
    "result = db.movies.aggregate([\n",
    "    {\n",
    "        '$match': {\n",
    "            'year': {\n",
    "                '$lt': 2000\n",
    "            }\n",
    "        }\n",
    "    }, {\n",
    "        '$group': {\n",
    "            '_id': {\n",
    "                '$first': '$genres'\n",
    "            }, \n",
    "            'countMovies': {\n",
    "                '$sum': 1\n",
    "            }, \n",
    "            'countNominations': {\n",
    "                '$sum': {\n",
    "                    '$add': [\n",
    "                        '$awards.nominations', '$awards.wins'\n",
    "                    ]\n",
    "                }\n",
    "            }\n",
    "        }\n",
    "    }, {\n",
    "        '$addFields': {\n",
    "            'nominationsPerFilm': {\n",
    "                '$divide': [\n",
    "                    '$countNominations', '$countMovies'\n",
    "                ]\n",
    "            }\n",
    "        }\n",
    "    }, {\n",
    "        '$addFields': {\n",
    "            'genre': '$_id'\n",
    "        }\n",
    "    }, {\n",
    "        '$sort': {\n",
    "            'nominationsPerFilm': -1\n",
    "        }\n",
    "    }, {\n",
    "        '$limit': 3\n",
    "    }, {\n",
    "        '$project': {\n",
    "            '_id': 0\n",
    "        }\n",
    "    }\n",
    "])\n",
    "\n",
    "for var in result:\n",
    "    jsonp(var)"
   ]
  },
  {
   "cell_type": "markdown",
   "id": "a3d70c82",
   "metadata": {},
   "source": [
    "Die besten Filme nach unserem Film-Score. Voraussetzung: Mindestens 10 User Bewertungen"
   ]
  },
  {
   "cell_type": "code",
   "execution_count": 12,
   "id": "26a716f0",
   "metadata": {},
   "outputs": [
    {
     "name": "stdout",
     "output_type": "stream",
     "text": [
      "{'customScore': 1392.0,\n",
      " 'plot': 'A medical engineer and an astronaut work together to survive after a '\n",
      "         'catastrophe destroys their shuttle and leaves them adrift in orbit.',\n",
      " 'title': 'Gravity',\n",
      " 'year': 2013}\n",
      "{'customScore': 1392.0,\n",
      " 'plot': 'A medical engineer and an astronaut work together to survive after a '\n",
      "         'catastrophe destroys their shuttle and leaves them adrift in orbit.',\n",
      " 'title': 'Gravity',\n",
      " 'year': 2013}\n",
      "{'customScore': 1383.0,\n",
      " 'plot': 'Illustrated upon the progress of his latest Broadway play, a former '\n",
      "         \"popular actor's struggle to cope with his current life as a wasted \"\n",
      "         'actor is shown.',\n",
      " 'title': 'Birdman: Or (The Unexpected Virtue of Ignorance)',\n",
      " 'year': 2014}\n"
     ]
    }
   ],
   "source": [
    "result = db.movies.aggregate([\n",
    "    {\n",
    "        '$match': {\n",
    "            'tomatoes.viewer.numReviews': {\n",
    "                '$gt': 9\n",
    "            }, \n",
    "            'imdb.votes': {\n",
    "                '$gt': 9\n",
    "            }\n",
    "        }\n",
    "    }, {\n",
    "        '$addFields': {\n",
    "            'customScore': {\n",
    "                '$add': [\n",
    "                    {\n",
    "                        '$multiply': [\n",
    "                            100, '$tomatoes.viewer.rating'\n",
    "                        ]\n",
    "                    }, {\n",
    "                        '$multiply': [\n",
    "                            50, '$imdb.rating'\n",
    "                        ]\n",
    "                    }, {\n",
    "                        '$multiply': [\n",
    "                            1, '$awards.nominations'\n",
    "                        ]\n",
    "                    }, {\n",
    "                        '$multiply': [\n",
    "                            2, '$awards.wins'\n",
    "                        ]\n",
    "                    }\n",
    "                ]\n",
    "            }\n",
    "        }\n",
    "    }, {\n",
    "        '$sort': {\n",
    "            'customScore': -1\n",
    "        }\n",
    "    }, {\n",
    "        '$project': {\n",
    "            '_id': 0, \n",
    "            'title': 1, \n",
    "            'customScore': 1, \n",
    "            'plot': 1, \n",
    "            'year': 1\n",
    "        }\n",
    "    }, {\n",
    "        '$limit': 3\n",
    "    }\n",
    "])\n",
    "\n",
    "for var in result:\n",
    "    jsonp(var)"
   ]
  }
 ],
 "metadata": {
  "kernelspec": {
   "display_name": "Python 3 (ipykernel)",
   "language": "python",
   "name": "python3"
  },
  "language_info": {
   "codemirror_mode": {
    "name": "ipython",
    "version": 3
   },
   "file_extension": ".py",
   "mimetype": "text/x-python",
   "name": "python",
   "nbconvert_exporter": "python",
   "pygments_lexer": "ipython3",
   "version": "3.9.7"
  }
 },
 "nbformat": 4,
 "nbformat_minor": 5
}
