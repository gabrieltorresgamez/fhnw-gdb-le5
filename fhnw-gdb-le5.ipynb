{
 "cells": [
  {
   "cell_type": "markdown",
   "id": "0df38b72",
   "metadata": {},
   "source": [
    "# Grundkompetenz Datenbanken"
   ]
  },
  {
   "cell_type": "markdown",
   "id": "3fcf3d1e",
   "metadata": {},
   "source": [
    "## Setup"
   ]
  },
  {
   "cell_type": "markdown",
   "id": "772f2fd2",
   "metadata": {},
   "source": [
    "Hier werden die benötigten Daten von der Konfigurationsdatei abgelesen, um eine Datenbankverbindung herzustellen."
   ]
  },
  {
   "cell_type": "code",
   "execution_count": 1,
   "id": "fac2b4e2",
   "metadata": {
    "scrolled": true
   },
   "outputs": [],
   "source": [
    "import configparser\n",
    "import pprint\n",
    "\n",
    "config = configparser.ConfigParser()\n",
    "config.read('config.ini')\n",
    "\n",
    "db_username = config['Database']['USER']\n",
    "db_password = config['Database']['PASS']\n",
    "db_hostname = config['Database']['HOST']\n",
    "\n",
    "jsonp = pprint.pprint"
   ]
  },
  {
   "cell_type": "markdown",
   "id": "40e40fd3",
   "metadata": {},
   "source": [
    "Hier wird die Datenbankverbindung hergestellt."
   ]
  },
  {
   "cell_type": "code",
   "execution_count": 2,
   "id": "488c8ac0",
   "metadata": {},
   "outputs": [],
   "source": [
    "from pymongo import MongoClient\n",
    "\n",
    "client = MongoClient(\"mongodb+srv://{USERNAME}:{PASSWORD}@{HOSTNAME}\".format(USERNAME = db_username, \n",
    "                                                                             PASSWORD = db_password, \n",
    "                                                                             HOSTNAME = db_hostname))\n",
    "db = client.sample_mflix"
   ]
  },
  {
   "cell_type": "markdown",
   "id": "c23733cd",
   "metadata": {},
   "source": [
    "Testabfrage:"
   ]
  },
  {
   "cell_type": "code",
   "execution_count": 3,
   "id": "316ba49b",
   "metadata": {},
   "outputs": [
    {
     "name": "stdout",
     "output_type": "stream",
     "text": [
      "['sessions', 'movies', 'users', 'comments', 'theaters']\n"
     ]
    }
   ],
   "source": [
    "print(db.list_collection_names())"
   ]
  },
  {
   "cell_type": "code",
   "execution_count": 4,
   "id": "a656816a",
   "metadata": {},
   "outputs": [
    {
     "name": "stdout",
     "output_type": "stream",
     "text": [
      "{'_id': ObjectId('59b99db4cfa9a34dcd7885b6'),\n",
      " 'email': 'sean_bean@gameofthron.es',\n",
      " 'name': 'Ned Stark',\n",
      " 'password': '$2b$12$UREFwsRUoyF0CRqGNK0LzO0HM/jLhgUCNNIJ9RJAqMUQ74crlJ1Vu'}\n",
      "{'_id': ObjectId('59b99db4cfa9a34dcd7885b7'),\n",
      " 'email': 'mark_addy@gameofthron.es',\n",
      " 'name': 'Robert Baratheon',\n",
      " 'password': '$2b$12$yGqxLG9LZpXA2xVDhuPnSOZd.VURVkz7wgOLY3pnO0s7u2S1ZO32y'}\n",
      "{'_id': ObjectId('59b99db5cfa9a34dcd7885b8'),\n",
      " 'email': 'nikolaj_coster-waldau@gameofthron.es',\n",
      " 'name': 'Jaime Lannister',\n",
      " 'password': '$2b$12$6vz7wiwO.EI5Rilvq1zUc./9480gb1uPtXcahDxIadgyC3PS8XCUK'}\n",
      "{'_id': ObjectId('59b99db5cfa9a34dcd7885b9'),\n",
      " 'email': 'michelle_fairley@gameofthron.es',\n",
      " 'name': 'Catelyn Stark',\n",
      " 'password': '$2b$12$fiaTH5Sh1zKNFX2i/FTEreWGjxoJxvmV7XL.qlfqCr8CwOxK.mZWS'}\n",
      "{'_id': ObjectId('59b99db6cfa9a34dcd7885ba'),\n",
      " 'email': 'lena_headey@gameofthron.es',\n",
      " 'name': 'Cersei Lannister',\n",
      " 'password': '$2b$12$FExjgr7CLhNCa.oUsB9seub8mqcHzkJCFZ8heMc8CeIKOZfeTKP8m'}\n"
     ]
    }
   ],
   "source": [
    "users = db.users.find({})[:5]\n",
    "for user in users:\n",
    "    jsonp(user)"
   ]
  }
 ],
 "metadata": {
  "kernelspec": {
   "display_name": "Python 3 (ipykernel)",
   "language": "python",
   "name": "python3"
  },
  "language_info": {
   "codemirror_mode": {
    "name": "ipython",
    "version": 3
   },
   "file_extension": ".py",
   "mimetype": "text/x-python",
   "name": "python",
   "nbconvert_exporter": "python",
   "pygments_lexer": "ipython3",
   "version": "3.9.7"
  }
 },
 "nbformat": 4,
 "nbformat_minor": 5
}
