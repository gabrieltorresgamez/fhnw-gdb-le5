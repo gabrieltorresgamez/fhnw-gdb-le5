{
 "cells": [
  {
   "cell_type": "markdown",
   "id": "0df38b72",
   "metadata": {},
   "source": [
    "# Grundkompetenz Datenbanken"
   ]
  },
  {
   "cell_type": "markdown",
   "id": "3fcf3d1e",
   "metadata": {},
   "source": [
    "## Setup"
   ]
  },
  {
   "cell_type": "markdown",
   "id": "772f2fd2",
   "metadata": {},
   "source": [
    "Hier werden die benötigten Daten von der Konfigurationsdatei abgelesen, um eine Datenbankverbindung herzustellen."
   ]
  },
  {
   "cell_type": "code",
   "execution_count": 1,
   "id": "fac2b4e2",
   "metadata": {
    "scrolled": true
   },
   "outputs": [],
   "source": [
    "import configparser\n",
    "import pprint\n",
    "\n",
    "config = configparser.ConfigParser()\n",
    "config.read('config.ini')\n",
    "\n",
    "db_username = config['Database']['USER']\n",
    "db_password = config['Database']['PASS']\n",
    "db_hostname = config['Database']['HOST']\n",
    "\n",
    "jsonp = pprint.pprint"
   ]
  },
  {
   "cell_type": "markdown",
   "id": "40e40fd3",
   "metadata": {},
   "source": [
    "Hier wird die Datenbankverbindung hergestellt."
   ]
  },
  {
   "cell_type": "code",
   "execution_count": 2,
   "id": "488c8ac0",
   "metadata": {},
   "outputs": [],
   "source": [
    "from pymongo import MongoClient\n",
    "\n",
    "client = MongoClient(\"mongodb+srv://{USERNAME}:{PASSWORD}@{HOSTNAME}\".format(USERNAME = db_username, \n",
    "                                                                             PASSWORD = db_password, \n",
    "                                                                             HOSTNAME = db_hostname))\n",
    "db = client.sample_mflix"
   ]
  },
  {
   "cell_type": "markdown",
   "id": "c23733cd",
   "metadata": {},
   "source": [
    "Testabfrage:"
   ]
  },
  {
   "cell_type": "code",
   "execution_count": 3,
   "id": "316ba49b",
   "metadata": {},
   "outputs": [
    {
     "name": "stdout",
     "output_type": "stream",
     "text": [
      "['sessions', 'movies', 'users', 'comments', 'theaters']\n"
     ]
    }
   ],
   "source": [
    "print(db.list_collection_names())"
   ]
  },
  {
   "cell_type": "markdown",
   "id": "430d732d",
   "metadata": {},
   "source": [
    "5 Users ausgeben"
   ]
  },
  {
   "cell_type": "code",
   "execution_count": 15,
   "id": "a656816a",
   "metadata": {
    "collapsed": true
   },
   "outputs": [
    {
     "name": "stdout",
     "output_type": "stream",
     "text": [
      "{'_id': ObjectId('59b99db4cfa9a34dcd7885b6'),\n",
      " 'email': 'sean_bean@gameofthron.es',\n",
      " 'name': 'Ned Stark',\n",
      " 'password': '$2b$12$UREFwsRUoyF0CRqGNK0LzO0HM/jLhgUCNNIJ9RJAqMUQ74crlJ1Vu'}\n",
      "{'_id': ObjectId('59b99db4cfa9a34dcd7885b7'),\n",
      " 'email': 'mark_addy@gameofthron.es',\n",
      " 'name': 'Robert Baratheon',\n",
      " 'password': '$2b$12$yGqxLG9LZpXA2xVDhuPnSOZd.VURVkz7wgOLY3pnO0s7u2S1ZO32y'}\n",
      "{'_id': ObjectId('59b99db5cfa9a34dcd7885b8'),\n",
      " 'email': 'nikolaj_coster-waldau@gameofthron.es',\n",
      " 'name': 'Jaime Lannister',\n",
      " 'password': '$2b$12$6vz7wiwO.EI5Rilvq1zUc./9480gb1uPtXcahDxIadgyC3PS8XCUK'}\n",
      "{'_id': ObjectId('59b99db5cfa9a34dcd7885b9'),\n",
      " 'email': 'michelle_fairley@gameofthron.es',\n",
      " 'name': 'Catelyn Stark',\n",
      " 'password': '$2b$12$fiaTH5Sh1zKNFX2i/FTEreWGjxoJxvmV7XL.qlfqCr8CwOxK.mZWS'}\n",
      "{'_id': ObjectId('59b99db6cfa9a34dcd7885ba'),\n",
      " 'email': 'lena_headey@gameofthron.es',\n",
      " 'name': 'Cersei Lannister',\n",
      " 'password': '$2b$12$FExjgr7CLhNCa.oUsB9seub8mqcHzkJCFZ8heMc8CeIKOZfeTKP8m'}\n"
     ]
    }
   ],
   "source": [
    "users = db.users.find({})[:5]\n",
    "for user in users:\n",
    "    jsonp(user)"
   ]
  },
  {
   "cell_type": "markdown",
   "id": "af5b50b0",
   "metadata": {},
   "source": [
    "find() Nach einer bestimmten Bedingung ausgeben"
   ]
  },
  {
   "cell_type": "code",
   "execution_count": 5,
   "id": "1396a8ba",
   "metadata": {},
   "outputs": [
    {
     "name": "stdout",
     "output_type": "stream",
     "text": [
      "{'_id': ObjectId('59b99db6cfa9a34dcd7885ba'),\n",
      " 'email': 'lena_headey@gameofthron.es',\n",
      " 'name': 'Cersei Lannister',\n",
      " 'password': '$2b$12$FExjgr7CLhNCa.oUsB9seub8mqcHzkJCFZ8heMc8CeIKOZfeTKP8m'}\n"
     ]
    }
   ],
   "source": [
    "users2 = db.users.find({'name':\"Cersei Lannister\"})\n",
    "for user in users2:\n",
    "    jsonp(user)"
   ]
  },
  {
   "cell_type": "code",
   "execution_count": 6,
   "id": "d0b1acbb",
   "metadata": {},
   "outputs": [
    {
     "name": "stdout",
     "output_type": "stream",
     "text": [
      "{'_id': ObjectId('573a1390f29313caabcd4135'),\n",
      " 'awards': {'nominations': 0, 'text': '1 win.', 'wins': 1},\n",
      " 'cast': ['Charles Kayser', 'John Ott'],\n",
      " 'countries': ['USA'],\n",
      " 'directors': ['William K.L. Dickson'],\n",
      " 'fullplot': 'A stationary camera looks at a large anvil with a blacksmith '\n",
      "             'behind it and one on either side. The smith in the middle draws '\n",
      "             'a heated metal rod from the fire, places it on the anvil, and '\n",
      "             'all three begin a rhythmic hammering. After several blows, the '\n",
      "             'metal goes back in the fire. One smith pulls out a bottle of '\n",
      "             'beer, and they each take a swig. Then, out comes the glowing '\n",
      "             'metal and the hammering resumes.',\n",
      " 'genres': ['Short'],\n",
      " 'imdb': {'id': 5, 'rating': 6.2, 'votes': 1189},\n",
      " 'lastupdated': '2015-08-26 00:03:50.133000000',\n",
      " 'num_mflix_comments': 0,\n",
      " 'plot': 'Three men hammer on an anvil and pass a bottle of beer around.',\n",
      " 'rated': 'UNRATED',\n",
      " 'released': datetime.datetime(1893, 5, 9, 0, 0),\n",
      " 'runtime': 1,\n",
      " 'title': 'Blacksmith Scene',\n",
      " 'tomatoes': {'lastUpdated': datetime.datetime(2015, 6, 28, 18, 34, 9),\n",
      "              'viewer': {'meter': 32, 'numReviews': 184, 'rating': 3.0}},\n",
      " 'type': 'movie',\n",
      " 'year': 1893}\n",
      "{'_id': ObjectId('573a1390f29313caabcd42e8'),\n",
      " 'awards': {'nominations': 0, 'text': '1 win.', 'wins': 1},\n",
      " 'cast': ['A.C. Abadie',\n",
      "          \"Gilbert M. 'Broncho Billy' Anderson\",\n",
      "          'George Barnes',\n",
      "          'Justus D. Barnes'],\n",
      " 'countries': ['USA'],\n",
      " 'directors': ['Edwin S. Porter'],\n",
      " 'fullplot': 'Among the earliest existing films in American cinema - notable '\n",
      "             'as the first film that presented a narrative story to tell - it '\n",
      "             'depicts a group of cowboy outlaws who hold up a train and rob '\n",
      "             \"the passengers. They are then pursued by a Sheriff's posse. \"\n",
      "             'Several scenes have color included - all hand tinted.',\n",
      " 'genres': ['Short', 'Western'],\n",
      " 'imdb': {'id': 439, 'rating': 7.4, 'votes': 9847},\n",
      " 'languages': ['English'],\n",
      " 'lastupdated': '2015-08-13 00:27:59.177000000',\n",
      " 'num_mflix_comments': 0,\n",
      " 'plot': 'A group of bandits stage a brazen train hold-up, only to find a '\n",
      "         'determined posse hot on their heels.',\n",
      " 'poster': 'https://m.media-amazon.com/images/M/MV5BMTU3NjE5NzYtYTYyNS00MDVmLWIwYjgtMmYwYWIxZDYyNzU2XkEyXkFqcGdeQXVyNzQzNzQxNzI@._V1_SY1000_SX677_AL_.jpg',\n",
      " 'rated': 'TV-G',\n",
      " 'released': datetime.datetime(1903, 12, 1, 0, 0),\n",
      " 'runtime': 11,\n",
      " 'title': 'The Great Train Robbery',\n",
      " 'tomatoes': {'critic': {'meter': 100, 'numReviews': 6, 'rating': 7.6},\n",
      "              'fresh': 6,\n",
      "              'lastUpdated': datetime.datetime(2015, 8, 8, 19, 16, 10),\n",
      "              'rotten': 0,\n",
      "              'viewer': {'meter': 75, 'numReviews': 2559, 'rating': 3.7}},\n",
      " 'type': 'movie',\n",
      " 'year': 1903}\n"
     ]
    }
   ],
   "source": [
    "countryquery = {'countries':\"USA\"}\n",
    "movie = db.movies.find(countryquery)[:2]\n",
    "for film in movie:\n",
    "    jsonp(film)"
   ]
  },
  {
   "cell_type": "markdown",
   "id": "d7ebd433",
   "metadata": {},
   "source": [
    "find() mit \"$gt\" und \"$lt\" abfrage \n",
    "\"$gt\" => greater than\n",
    "\"$lt\" => lower than"
   ]
  },
  {
   "cell_type": "code",
   "execution_count": 7,
   "id": "06aa8654",
   "metadata": {
    "collapsed": true
   },
   "outputs": [
    {
     "name": "stdout",
     "output_type": "stream",
     "text": [
      "{'_id': ObjectId('573a13a3f29313caabd0d5a4'),\n",
      " 'awards': {'nominations': 0, 'text': '1 win.', 'wins': 1},\n",
      " 'countries': ['USA'],\n",
      " 'directors': ['William K.L. Dickson'],\n",
      " 'fullplot': 'A young man stands before the camera holding a club in each '\n",
      "             'hand, horizontal to the ground. He raises the heads of the two '\n",
      "             'clubs in unison, by rotating the clubs without lifting his arms. '\n",
      "             'The film then shows the same footage over again, at different '\n",
      "             'speeds.',\n",
      " 'genres': ['Documentary', 'Short'],\n",
      " 'imdb': {'id': 241763, 'rating': 4.9, 'votes': 827},\n",
      " 'languages': ['English'],\n",
      " 'lastupdated': '2015-08-03 00:57:26.680000000',\n",
      " 'num_mflix_comments': 1,\n",
      " 'plot': 'An athlete swings Indian clubs.',\n",
      " 'rated': 'NOT RATED',\n",
      " 'runtime': 1,\n",
      " 'title': 'Newark Athlete',\n",
      " 'tomatoes': {'lastUpdated': datetime.datetime(2012, 9, 30, 0, 0)},\n",
      " 'type': 'movie',\n",
      " 'year': 1891}\n"
     ]
    }
   ],
   "source": [
    "yearquery = {'year':{\"$lt\":1893}}\n",
    "movie2 = db.movies.find(yearquery)[:3]\n",
    "for film in movie2:\n",
    "    jsonp(film)"
   ]
  },
  {
   "cell_type": "markdown",
   "id": "e0f1ced0",
   "metadata": {},
   "source": [
    "find() mit \"$regex\" Abfrage nach einer Zeichenkette"
   ]
  },
  {
   "cell_type": "markdown",
   "id": "b133598f",
   "metadata": {},
   "source": [
    "titlequery = {'title':{\"$regex\":\"^s\"}}\n",
    "movie3 = db.movies.find(titlequery)[:2]\n",
    "for film in movie3:\n",
    "    jsonp(film)"
   ]
  },
  {
   "cell_type": "code",
   "execution_count": 9,
   "id": "3ec950cf",
   "metadata": {
    "collapsed": true
   },
   "outputs": [
    {
     "name": "stdout",
     "output_type": "stream",
     "text": [
      "{'_id': ObjectId('573a1390f29313caabcd4323'),\n",
      " 'awards': {'nominations': 0, 'text': '1 win.', 'wins': 1},\n",
      " 'cast': ['Martin Fuller',\n",
      "          'Mrs. William Bechtel',\n",
      "          'Walter Edwin',\n",
      "          'Ethel Jewett'],\n",
      " 'countries': ['USA'],\n",
      " 'directors': ['Harold M. Shaw'],\n",
      " 'fullplot': 'Thanks to the Fresh Air Fund, a slum child escapes his drunken '\n",
      "             \"mother for a day's outing in the country. Upon arriving, he and \"\n",
      "             'the other children are told a story about a mythical land of no '\n",
      "             \"pain. Rather then return to the slum at day's end, the lad seeks \"\n",
      "             'to journey to that beautiful land beyond the sunset.',\n",
      " 'genres': ['Short', 'Drama', 'Fantasy'],\n",
      " 'imdb': {'id': 488, 'rating': 7.1, 'votes': 448},\n",
      " 'languages': ['English'],\n",
      " 'lastupdated': '2015-08-29 00:27:45.437000000',\n",
      " 'num_mflix_comments': 1,\n",
      " 'plot': 'A young boy, opressed by his mother, goes on an outing in the '\n",
      "         'country with a social welfare group where he dares to dream of a '\n",
      "         'land where the cares of his ordinary life fade.',\n",
      " 'poster': 'https://m.media-amazon.com/images/M/MV5BMTMzMDcxMjgyNl5BMl5BanBnXkFtZTcwOTgxNjg4Mg@@._V1_SY1000_SX677_AL_.jpg',\n",
      " 'rated': 'UNRATED',\n",
      " 'released': datetime.datetime(1912, 10, 28, 0, 0),\n",
      " 'runtime': 14,\n",
      " 'title': 'The Land Beyond the Sunset',\n",
      " 'tomatoes': {'lastUpdated': datetime.datetime(2015, 4, 27, 19, 6, 35),\n",
      "              'viewer': {'meter': 67, 'numReviews': 53, 'rating': 3.7}},\n",
      " 'type': 'movie',\n",
      " 'writers': ['Dorothy G. Shore'],\n",
      " 'year': 1912}\n",
      "{'_id': ObjectId('573a1390f29313caabcd446f'),\n",
      " 'awards': {'nominations': 0, 'text': '1 win.', 'wins': 1},\n",
      " 'cast': ['Frank Powell',\n",
      "          'Grace Henderson',\n",
      "          'James Kirkwood',\n",
      "          'Linda Arvidson'],\n",
      " 'countries': ['USA'],\n",
      " 'directors': ['D.W. Griffith'],\n",
      " 'fullplot': 'A greedy tycoon decides, on a whim, to corner the world market '\n",
      "             \"in wheat. This doubles the price of bread, forcing the grain's \"\n",
      "             'producers into charity lines and further into poverty. The film '\n",
      "             'continues to contrast the ironic differences between the lives '\n",
      "             'of those who work to grow the wheat and the life of the man who '\n",
      "             'dabbles in its sale for profit.',\n",
      " 'genres': ['Short', 'Drama'],\n",
      " 'imdb': {'id': 832, 'rating': 6.6, 'votes': 1375},\n",
      " 'languages': ['English'],\n",
      " 'lastupdated': '2015-08-13 00:46:30.660000000',\n",
      " 'num_mflix_comments': 1,\n",
      " 'plot': 'A greedy tycoon decides, on a whim, to corner the world market in '\n",
      "         \"wheat. This doubles the price of bread, forcing the grain's \"\n",
      "         'producers into charity lines and further into poverty. The film...',\n",
      " 'rated': 'G',\n",
      " 'released': datetime.datetime(1909, 12, 13, 0, 0),\n",
      " 'runtime': 14,\n",
      " 'title': 'A Corner in Wheat',\n",
      " 'tomatoes': {'lastUpdated': datetime.datetime(2015, 5, 11, 18, 36, 53),\n",
      "              'viewer': {'meter': 73, 'numReviews': 109, 'rating': 3.6}},\n",
      " 'type': 'movie',\n",
      " 'year': 1909}\n"
     ]
    }
   ],
   "source": [
    "genrequery = {'genres':{\"$regex\":\"^Drama\"}}\n",
    "movie4 = db.movies.find(genrequery)[:2]\n",
    "for film in movie4:\n",
    "    jsonp(film)"
   ]
  },
  {
   "cell_type": "markdown",
   "id": "15b94e3a",
   "metadata": {},
   "source": [
    "find() Meherere User nach mehreren Bedingungen ausgeben"
   ]
  },
  {
   "cell_type": "code",
   "execution_count": 10,
   "id": "1f5bf33e",
   "metadata": {
    "collapsed": true
   },
   "outputs": [
    {
     "name": "stdout",
     "output_type": "stream",
     "text": [
      "{'_id': ObjectId('59b99db5cfa9a34dcd7885b9'),\n",
      " 'email': 'michelle_fairley@gameofthron.es',\n",
      " 'name': 'Catelyn Stark',\n",
      " 'password': '$2b$12$fiaTH5Sh1zKNFX2i/FTEreWGjxoJxvmV7XL.qlfqCr8CwOxK.mZWS'}\n",
      "{'_id': ObjectId('59b99db6cfa9a34dcd7885ba'),\n",
      " 'email': 'lena_headey@gameofthron.es',\n",
      " 'name': 'Cersei Lannister',\n",
      " 'password': '$2b$12$FExjgr7CLhNCa.oUsB9seub8mqcHzkJCFZ8heMc8CeIKOZfeTKP8m'}\n"
     ]
    }
   ],
   "source": [
    "users3 = db.users.find({\"$or\":[{'name':\"Cersei Lannister\"},{'name':\"Catelyn Stark\"}]})\n",
    "for user in users3:\n",
    "    jsonp(user)"
   ]
  },
  {
   "cell_type": "markdown",
   "id": "8844492f",
   "metadata": {},
   "source": [
    "find() mit sort() verknuepfen\n",
    "-1 = absteigend\n",
    "1  = aufsteigend"
   ]
  },
  {
   "cell_type": "code",
   "execution_count": 11,
   "id": "17936b2b",
   "metadata": {
    "collapsed": true
   },
   "outputs": [
    {
     "name": "stdout",
     "output_type": "stream",
     "text": [
      "{'_id': ObjectId('573a1397f29313caabce69db'),\n",
      " 'awards': {'nominations': 2,\n",
      "            'text': 'Nominated for 2 Golden Globes. Another 3 wins & 2 '\n",
      "                    'nominations.',\n",
      "            'wins': 5},\n",
      " 'cast': ['Raymond Burr',\n",
      "          'Barbara Carrera',\n",
      "          'Richard Chamberlain',\n",
      "          'Robert Conrad'],\n",
      " 'countries': ['USA'],\n",
      " 'fullplot': 'This is the story of the evolution of the town Centennial, '\n",
      "             'Colorado. It follows the paths of dozens of people who come to '\n",
      "             'the area for many reasons: money, freedom, or crime. It also '\n",
      "             'shows the bigoted treatment of the Native Indians by the '\n",
      "             'advancing US colonists. It is topped off with a murder mystery '\n",
      "             'that takes 100 years to solve.',\n",
      " 'genres': ['Action', 'Adventure', 'Drama'],\n",
      " 'imdb': {'id': 76993, 'rating': 8.5, 'votes': 2071},\n",
      " 'languages': ['English'],\n",
      " 'lastupdated': '2015-09-02 00:38:39.193000000',\n",
      " 'num_mflix_comments': 1,\n",
      " 'plot': 'The economic and cultural growth of Colorado spanning two centuries '\n",
      "         'from the mid-1700s to the late-1970s.',\n",
      " 'poster': 'https://m.media-amazon.com/images/M/MV5BMTM4OTMyMzg4MV5BMl5BanBnXkFtZTcwMTMzMzU1MQ@@._V1_SY1000_SX677_AL_.jpg',\n",
      " 'released': datetime.datetime(1978, 10, 1, 0, 0),\n",
      " 'runtime': 1256,\n",
      " 'title': 'Centennial',\n",
      " 'tomatoes': {'dvd': datetime.datetime(2005, 5, 10, 0, 0),\n",
      "              'lastUpdated': datetime.datetime(2015, 8, 20, 18, 45, 21),\n",
      "              'viewer': {'meter': 40, 'numReviews': 283, 'rating': 2.9}},\n",
      " 'type': 'series',\n",
      " 'year': 1978}\n",
      "{'_id': ObjectId('573a1399f29313caabcee1aa'),\n",
      " 'awards': {'nominations': 4,\n",
      "            'text': 'Won 1 Primetime Emmy. Another 2 wins & 4 nominations.',\n",
      "            'wins': 3},\n",
      " 'cast': ['John Chancellor', 'Daniel Okrent', 'Ossie Davis', 'Paul Roebling'],\n",
      " 'countries': ['USA'],\n",
      " 'fullplot': 'Ken Burns relates the history of baseball in a fashion similar '\n",
      "             'to that of his Civil War mini series. Old-time photos and '\n",
      "             'illustrations depict the games early years, while newsreels and '\n",
      "             'video clips highlight more recent developments. Players and '\n",
      "             'participants speak in their own words, and sports writers and '\n",
      "             'broadcasters offer commentary on the sport and events they '\n",
      "             'witnessed.',\n",
      " 'genres': ['Documentary', 'History', 'Sport'],\n",
      " 'imdb': {'id': 108700, 'rating': 9.1, 'votes': 2460},\n",
      " 'languages': ['English'],\n",
      " 'lastupdated': '2015-08-23 01:18:00.647000000',\n",
      " 'num_mflix_comments': 0,\n",
      " 'plot': 'A documentary on the history of the sport with major topics '\n",
      "         'including Afro-American players, player/team owner relations and the '\n",
      "         'resilience of the game.',\n",
      " 'poster': 'https://m.media-amazon.com/images/M/MV5BN2FmNjM0NzMtYjZjZi00NzQ0LWE5MjMtOWEzOGNmYjZkNmI1XkEyXkFqcGdeQXVyNTAyODkwOQ@@._V1_SY1000_SX677_AL_.jpg',\n",
      " 'rated': 'TV-PG',\n",
      " 'released': datetime.datetime(1994, 9, 18, 0, 0),\n",
      " 'runtime': 1140,\n",
      " 'title': 'Baseball',\n",
      " 'tomatoes': {'lastUpdated': datetime.datetime(2015, 7, 21, 19, 15, 41),\n",
      "              'viewer': {'numReviews': 72, 'rating': 4.5}},\n",
      " 'type': 'series',\n",
      " 'year': 1994}\n",
      "{'_id': ObjectId('573a1397f29313caabce75fe'),\n",
      " 'awards': {'nominations': 1, 'text': '5 wins & 1 nomination.', 'wins': 5},\n",
      " 'cast': ['Gènter Lamprecht',\n",
      "          'Claus Holm',\n",
      "          'Hanna Schygulla',\n",
      "          'Franz Buchrieser'],\n",
      " 'countries': ['West Germany', 'Italy'],\n",
      " 'fullplot': 'This film, which is basically the longest narrative film ever '\n",
      "             'made, is a 15-1/2 hour episodic exploration of the character of '\n",
      "             'Franz Biberkopf, \"hero\" of Alfred Dèblin\\'s acclaimed novel, as '\n",
      "             'well as the Alexanderplatz area of Berlin that he inhabits.',\n",
      " 'genres': ['Drama'],\n",
      " 'imdb': {'id': 80196, 'rating': 8.7, 'votes': 2859},\n",
      " 'languages': ['German'],\n",
      " 'lastupdated': '2015-08-27 00:06:20.773000000',\n",
      " 'num_mflix_comments': 1,\n",
      " 'plot': 'In late-1920s Berlin, Franz Biberkopf is released from prison and '\n",
      "         'vows to go straight; however he soon finds himself embroiled in the '\n",
      "         \"city's criminal underworld.\",\n",
      " 'poster': 'https://m.media-amazon.com/images/M/MV5BMTg5MTYxNTAzOV5BMl5BanBnXkFtZTcwMjQ1NjI1MQ@@._V1_SY1000_SX677_AL_.jpg',\n",
      " 'rated': 'NOT RATED',\n",
      " 'released': datetime.datetime(1983, 8, 10, 0, 0),\n",
      " 'runtime': 910,\n",
      " 'title': 'Berlin Alexanderplatz',\n",
      " 'tomatoes': {'dvd': datetime.datetime(2005, 7, 19, 0, 0),\n",
      "              'lastUpdated': datetime.datetime(2015, 4, 24, 19, 15, 21),\n",
      "              'viewer': {'meter': 15, 'numReviews': 1576, 'rating': 2.6}},\n",
      " 'type': 'series',\n",
      " 'year': 1980}\n",
      "{'_id': ObjectId('573a13a6f29313caabd18ae0'),\n",
      " 'awards': {'nominations': 24,\n",
      "            'text': 'Nominated for 1 Golden Globe. Another 8 wins & 24 '\n",
      "                    'nominations.',\n",
      "            'wins': 9},\n",
      " 'cast': ['Dakota Fanning', 'Matt Frewer', 'Emily Bergl', 'Heather Donahue'],\n",
      " 'countries': ['USA'],\n",
      " 'fullplot': 'Taken spans five decades and four generations, centering on '\n",
      "             'three families: the Keys, Crawfords, and Clarkes. World War II '\n",
      "             'veteran Russell Keys is plagued by nightmares of his abduction '\n",
      "             'by aliens during the war; the Roswell incident transforms Owen '\n",
      "             'Crawford from ambitious Air Force captain to evil shadow '\n",
      "             'government conspirator; the unhappily married Sally Clarke is '\n",
      "             'impregnated by an alien visitor. As the decades go by, the heirs '\n",
      "             'of each are affected by the machinations of the aliens, '\n",
      "             'culminating with the birth of Allie Keys, who is the final '\n",
      "             \"product of the aliens' experimentation and holds the key to \"\n",
      "             'their future.',\n",
      " 'genres': ['Drama', 'Sci-Fi'],\n",
      " 'imdb': {'id': 289830, 'rating': 7.9, 'votes': 16378},\n",
      " 'languages': ['English'],\n",
      " 'lastupdated': '2015-09-15 05:14:12.117000000',\n",
      " 'num_mflix_comments': 1,\n",
      " 'plot': 'Taken spans five decades and four generations, centering on three '\n",
      "         'families: the Keys, Crawfords, and Clarkes. World War II veteran '\n",
      "         'Russell Keys is plagued by nightmares of his abduction by ...',\n",
      " 'poster': 'https://m.media-amazon.com/images/M/MV5BMTI0NTI0NjAxMV5BMl5BanBnXkFtZTYwOTM3MTg5._V1_SY1000_SX677_AL_.jpg',\n",
      " 'released': datetime.datetime(2002, 12, 2, 0, 0),\n",
      " 'runtime': 877,\n",
      " 'title': 'Taken',\n",
      " 'tomatoes': {'dvd': datetime.datetime(2009, 11, 10, 0, 0),\n",
      "              'lastUpdated': datetime.datetime(2015, 8, 30, 18, 26, 16),\n",
      "              'viewer': {'meter': 73, 'numReviews': 85, 'rating': 3.8}},\n",
      " 'type': 'series',\n",
      " 'year': 2002}\n",
      "{'_id': ObjectId('573a1398f29313caabce95f3'),\n",
      " 'awards': {'nominations': 4,\n",
      "            'text': 'Won 1 Primetime Emmy. Another 3 nominations.',\n",
      "            'wins': 0},\n",
      " 'cast': ['James Garner', 'Susan Anspach', 'Blair Brown', 'Bruce Dern'],\n",
      " 'countries': ['USA'],\n",
      " 'fullplot': \"A 13-hour mini-series detailing James A. Michner's fictional \"\n",
      "             'account of the American space program from the years after World '\n",
      "             \"War II to the Apollo landings on the moon in the early 1970's.\",\n",
      " 'genres': ['Drama'],\n",
      " 'imdb': {'id': 88611, 'rating': 7.4, 'votes': 172},\n",
      " 'languages': ['English'],\n",
      " 'lastupdated': '2015-07-20 00:57:40.840000000',\n",
      " 'num_mflix_comments': 1,\n",
      " 'plot': \"A 13-hour mini-series detailing James A. Michner's fictional account \"\n",
      "         'of the American space program from the years after World War II to '\n",
      "         \"the Apollo landings on the moon in the early 1970's.\",\n",
      " 'released': datetime.datetime(1985, 4, 14, 0, 0),\n",
      " 'runtime': 780,\n",
      " 'title': 'Space',\n",
      " 'type': 'series',\n",
      " 'year': 1985}\n"
     ]
    }
   ],
   "source": [
    "movie5 = db.movies.find().sort('runtime', -1)[:5] \n",
    "for film in movie5:\n",
    "    jsonp(film)"
   ]
  },
  {
   "cell_type": "markdown",
   "id": "934359d8",
   "metadata": {},
   "source": [
    "Mehere Abfragen gleichzeitig"
   ]
  },
  {
   "cell_type": "code",
   "execution_count": 14,
   "id": "a140150a",
   "metadata": {
    "collapsed": true
   },
   "outputs": [
    {
     "name": "stdout",
     "output_type": "stream",
     "text": [
      "{'_id': ObjectId('573a13aef29313caabd2edcd'),\n",
      " 'awards': {'nominations': 16, 'text': '4 wins & 16 nominations.', 'wins': 4},\n",
      " 'cast': ['Romola Garai', \"Chris O'Dowd\", 'Amanda Hale', 'Shirley Henderson'],\n",
      " 'countries': ['UK'],\n",
      " 'fullplot': 'Set in 1870s London, a young prostitute finds potential power '\n",
      "             'and status after becoming the mistress of a powerful patriarch.',\n",
      " 'genres': ['Drama', 'Romance'],\n",
      " 'imdb': {'id': 384013, 'rating': 7.7, 'votes': 1983},\n",
      " 'languages': ['English'],\n",
      " 'lastupdated': '2015-08-20 00:23:18.767000000',\n",
      " 'num_mflix_comments': 1,\n",
      " 'plot': 'Set in 1870s London, a young prostitute finds potential power and '\n",
      "         'status after becoming the mistress of a powerful patriarch.',\n",
      " 'poster': 'https://m.media-amazon.com/images/M/MV5BMTU2MzUyMDIzOV5BMl5BanBnXkFtZTcwNTQyODAyOA@@._V1_SY1000_SX677_AL_.jpg',\n",
      " 'released': datetime.datetime(2011, 4, 6, 0, 0),\n",
      " 'runtime': 274,\n",
      " 'title': 'The Crimson Petal and the White',\n",
      " 'type': 'series',\n",
      " 'year': 2011}\n",
      "{'_id': ObjectId('573a13c1f29313caabd64a8a'),\n",
      " 'awards': {'nominations': 2, 'text': '2 wins & 2 nominations.', 'wins': 2},\n",
      " 'cast': ['Pierce Brosnan',\n",
      "          'Melissa George',\n",
      "          'Annabeth Gish',\n",
      "          'Anika Noni Rose'],\n",
      " 'countries': ['USA'],\n",
      " 'fullplot': 'Bestselling novelist Mike Noonan, unable to cope after his '\n",
      "             \"wife's sudden death, returns to the couple's lakeside retreat in \"\n",
      "             'Maine, where he becomes involved in a custody battle between a '\n",
      "             \"young widow and her child's enormously wealthy grandfather. Mike \"\n",
      "             'inexplicably receives mysterious ghostly visitations, escalating '\n",
      "             'nightmares and the realization that his late wife still has '\n",
      "             'something to tell him.',\n",
      " 'genres': ['Drama', 'Horror', 'Mystery'],\n",
      " 'imdb': {'id': 1212452, 'rating': 5.8, 'votes': 6543},\n",
      " 'languages': ['English'],\n",
      " 'lastupdated': '2015-08-28 01:13:07.830000000',\n",
      " 'num_mflix_comments': 0,\n",
      " 'plot': \"After his wife's sudden death, a best selling author returns to his \"\n",
      "         'cabin retreat where he receives paranormal visitations and becomes '\n",
      "         'involved in a custody battle.',\n",
      " 'poster': 'https://m.media-amazon.com/images/M/MV5BYmM4ODk4YTEtMWIwMS00ZjgxLTk0N2EtOGEyMTc2MTAzY2U3XkEyXkFqcGdeQXVyMTQxNzMzNDI@._V1_SY1000_SX677_AL_.jpg',\n",
      " 'rated': 'NOT RATED',\n",
      " 'released': datetime.datetime(2011, 12, 11, 0, 0),\n",
      " 'runtime': 163,\n",
      " 'title': 'Bag of Bones',\n",
      " 'tomatoes': {'lastUpdated': datetime.datetime(2015, 7, 23, 19, 13, 1),\n",
      "              'viewer': {'meter': 39, 'numReviews': 133, 'rating': 3.0}},\n",
      " 'type': 'series',\n",
      " 'year': 2011}\n"
     ]
    }
   ],
   "source": [
    "movie6 = db.movies.find({ 'year': {'$gt': 2010}, '$and': [{'genres': 'Drama'},{'type': 'series'}]})[:2]\n",
    "for film in movie6:\n",
    "    jsonp(film)"
   ]
  },
  {
   "cell_type": "markdown",
   "id": "1779aa47",
   "metadata": {},
   "source": []
  },
  {
   "cell_type": "code",
   "execution_count": null,
   "id": "1cb5ef77",
   "metadata": {},
   "outputs": [],
   "source": []
  },
  {
   "cell_type": "code",
   "execution_count": null,
   "id": "f8afa4d2",
   "metadata": {},
   "outputs": [],
   "source": []
  },
  {
   "cell_type": "code",
   "execution_count": null,
   "id": "022a52de",
   "metadata": {},
   "outputs": [],
   "source": []
  },
  {
   "cell_type": "code",
   "execution_count": null,
   "id": "f075e84f",
   "metadata": {},
   "outputs": [],
   "source": []
  },
  {
   "cell_type": "code",
   "execution_count": null,
   "id": "90189bc6",
   "metadata": {},
   "outputs": [],
   "source": []
  },
  {
   "cell_type": "code",
   "execution_count": null,
   "id": "3520f302",
   "metadata": {},
   "outputs": [],
   "source": []
  },
  {
   "cell_type": "code",
   "execution_count": null,
   "id": "34e5e28c",
   "metadata": {},
   "outputs": [],
   "source": []
  },
  {
   "cell_type": "code",
   "execution_count": null,
   "id": "74698eaf",
   "metadata": {},
   "outputs": [],
   "source": []
  },
  {
   "cell_type": "code",
   "execution_count": null,
   "id": "e742e604",
   "metadata": {},
   "outputs": [],
   "source": []
  },
  {
   "cell_type": "code",
   "execution_count": null,
   "id": "c4b09a21",
   "metadata": {},
   "outputs": [],
   "source": []
  },
  {
   "cell_type": "code",
   "execution_count": null,
   "id": "828054ab",
   "metadata": {},
   "outputs": [],
   "source": []
  },
  {
   "cell_type": "code",
   "execution_count": null,
   "id": "77e3bcc4",
   "metadata": {},
   "outputs": [],
   "source": []
  },
  {
   "cell_type": "code",
   "execution_count": null,
   "id": "0de77e9b",
   "metadata": {},
   "outputs": [],
   "source": []
  },
  {
   "cell_type": "code",
   "execution_count": null,
   "id": "4b6ca928",
   "metadata": {},
   "outputs": [],
   "source": []
  }
 ],
 "metadata": {
  "kernelspec": {
   "display_name": "Python 3 (ipykernel)",
   "language": "python",
   "name": "python3"
  },
  "language_info": {
   "codemirror_mode": {
    "name": "ipython",
    "version": 3
   },
   "file_extension": ".py",
   "mimetype": "text/x-python",
   "name": "python",
   "nbconvert_exporter": "python",
   "pygments_lexer": "ipython3",
   "version": "3.9.7"
  }
 },
 "nbformat": 4,
 "nbformat_minor": 5
}
